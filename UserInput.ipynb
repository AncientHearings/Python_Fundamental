{
  "nbformat": 4,
  "nbformat_minor": 0,
  "metadata": {
    "colab": {
      "provenance": [],
      "authorship_tag": "ABX9TyOkZqWHVjaK+p8xr6ldAbnU",
      "include_colab_link": true
    },
    "kernelspec": {
      "name": "python3",
      "display_name": "Python 3"
    },
    "language_info": {
      "name": "python"
    }
  },
  "cells": [
    {
      "cell_type": "markdown",
      "metadata": {
        "id": "view-in-github",
        "colab_type": "text"
      },
      "source": [
        "<a href=\"https://colab.research.google.com/github/AncientHearings/Python_Fundamental/blob/main/UserInput.ipynb\" target=\"_parent\"><img src=\"https://colab.research.google.com/assets/colab-badge.svg\" alt=\"Open In Colab\"/></a>"
      ]
    },
    {
      "cell_type": "markdown",
      "source": [
        "###USER INPUT"
      ],
      "metadata": {
        "id": "fiTlgDMBlkeq"
      }
    },
    {
      "cell_type": "markdown",
      "source": [
        "input() function waits for the user to enter some text.\n",
        "  \n",
        "The input is assigned to the variable."
      ],
      "metadata": {
        "id": "WC6ZDPX7ltHZ"
      }
    },
    {
      "cell_type": "markdown",
      "source": [
        "The function takes only one argument i.e the prompt which tells the user what exactly to enter as input.\n",
        "  \n",
        "The prompt is displayed to the user."
      ],
      "metadata": {
        "id": "5Zq_pAwMmHS9"
      }
    },
    {
      "cell_type": "code",
      "execution_count": 1,
      "metadata": {
        "colab": {
          "base_uri": "https://localhost:8080/",
          "height": 55
        },
        "id": "4XZ6TA9tlh9B",
        "outputId": "f3d8240e-8bc9-4d6f-d0eb-35f7b6c401dc"
      },
      "outputs": [
        {
          "name": "stdout",
          "output_type": "stream",
          "text": [
            "Enter the gene name here: BRAC1\n"
          ]
        },
        {
          "output_type": "execute_result",
          "data": {
            "text/plain": [
              "'BRAC1'"
            ],
            "application/vnd.google.colaboratory.intrinsic+json": {
              "type": "string"
            }
          },
          "metadata": {},
          "execution_count": 1
        }
      ],
      "source": [
        "gene = input(\"Enter the gene name here: \")\n",
        "\n",
        "gene"
      ]
    },
    {
      "cell_type": "markdown",
      "source": [
        "Wrting Clear Prompts"
      ],
      "metadata": {
        "id": "77owEhH7m1G-"
      }
    },
    {
      "cell_type": "markdown",
      "source": [
        "The prompt should be clear and easy-to-follow.  \n",
        "  \n",
        "It tells the user what exactly to give as input."
      ],
      "metadata": {
        "id": "HaSi0yrOnjgH"
      }
    },
    {
      "cell_type": "markdown",
      "source": [
        "The prompt is ended by a semi-colon and followed by space  which tells the user where to enter the text. It separates the user's responsefrom the prompt."
      ],
      "metadata": {
        "id": "19g6Ykt0okz8"
      }
    },
    {
      "cell_type": "code",
      "source": [
        "gene = input(\"Enter the gene name here: \") #Semi-colon followed by space.\n",
        "\n",
        "gene"
      ],
      "metadata": {
        "colab": {
          "base_uri": "https://localhost:8080/",
          "height": 55
        },
        "id": "7jyy2HKZmm0s",
        "outputId": "fd0c1608-eae7-4a77-f67a-891e52fd5a0e"
      },
      "execution_count": 2,
      "outputs": [
        {
          "name": "stdout",
          "output_type": "stream",
          "text": [
            "Enter the gene name here: brac1\n"
          ]
        },
        {
          "output_type": "execute_result",
          "data": {
            "text/plain": [
              "'brac1'"
            ],
            "application/vnd.google.colaboratory.intrinsic+json": {
              "type": "string"
            }
          },
          "metadata": {},
          "execution_count": 2
        }
      ]
    },
    {
      "cell_type": "markdown",
      "source": [
        "Multi-line prompt"
      ],
      "metadata": {
        "id": "2rQGs1TRpFA7"
      }
    },
    {
      "cell_type": "markdown",
      "source": [
        "  Augmented assignment operator is used for multi-line prompt.  \n",
        "    \n",
        "  A prompt is assigned to a variable.Following up, another line of prompt is assigned to the variable using augmented assignment operator."
      ],
      "metadata": {
        "id": "lNQO0Z5GpHTh"
      }
    },
    {
      "cell_type": "code",
      "source": [
        "gene = \"Enter the gene name here:\\n \"\n",
        "gene += \"Breast cancer genes.\"\n",
        "\n",
        "gene"
      ],
      "metadata": {
        "colab": {
          "base_uri": "https://localhost:8080/",
          "height": 36
        },
        "id": "GJTWbLVtpB_i",
        "outputId": "1723b27e-148a-41cd-ce18-a4136d1cd1d3"
      },
      "execution_count": 4,
      "outputs": [
        {
          "output_type": "execute_result",
          "data": {
            "text/plain": [
              "'Enter the gene name here:\\n Breast cancer genes.'"
            ],
            "application/vnd.google.colaboratory.intrinsic+json": {
              "type": "string"
            }
          },
          "metadata": {},
          "execution_count": 4
        }
      ]
    },
    {
      "cell_type": "markdown",
      "source": [
        "Using int() to Accept Numerical Input"
      ],
      "metadata": {
        "id": "Tm7bY-KzqXgN"
      }
    },
    {
      "cell_type": "markdown",
      "source": [
        "The input() function takes string valyue by default. Whatever the value, It will be interpreted as string. String is a series of characters enclosed inside single or double quotes."
      ],
      "metadata": {
        "id": "3D9-i1xSqiRs"
      }
    },
    {
      "cell_type": "markdown",
      "source": [
        "For the int() function to accept numeric data types, casting is done. Casting means to infer a type onto a variable."
      ],
      "metadata": {
        "id": "0XvdMHnvrWAH"
      }
    },
    {
      "cell_type": "code",
      "source": [
        "Value = input(\"Enter a number: \")\n",
        "Value = int(Value) # New value can be assigned to the variable. Python keeps track of the current value.\n",
        "\n",
        "print(Value == 67) #Boolean value(True or False will be returned.)"
      ],
      "metadata": {
        "colab": {
          "base_uri": "https://localhost:8080/"
        },
        "id": "TxKLdNd2qRPQ",
        "outputId": "556fda79-8ae7-415a-92a6-26990c00b1ee"
      },
      "execution_count": 7,
      "outputs": [
        {
          "output_type": "stream",
          "name": "stdout",
          "text": [
            "Enter a number: 67\n",
            "True\n"
          ]
        }
      ]
    },
    {
      "cell_type": "markdown",
      "source": [
        "Modulo Operator"
      ],
      "metadata": {
        "id": "5P0uwmJnstZl"
      }
    },
    {
      "cell_type": "markdown",
      "source": [
        "The operator % returns remainder.  \n",
        "  \n",
        "This can be used to check if a  number is odd or even. If the remainder is 0, then the number is even otherwise odd."
      ],
      "metadata": {
        "id": "Xm2p9UZfswur"
      }
    },
    {
      "cell_type": "code",
      "source": [
        "3 % 2 #Remainder is returned."
      ],
      "metadata": {
        "colab": {
          "base_uri": "https://localhost:8080/"
        },
        "id": "HhSvER3NsdUx",
        "outputId": "710b6a3e-a793-46e3-a453-6f95a091b141"
      },
      "execution_count": 9,
      "outputs": [
        {
          "output_type": "execute_result",
          "data": {
            "text/plain": [
              "1"
            ]
          },
          "metadata": {},
          "execution_count": 9
        }
      ]
    },
    {
      "cell_type": "code",
      "source": [],
      "metadata": {
        "id": "JQ0cNMUYtIVm"
      },
      "execution_count": null,
      "outputs": []
    }
  ]
}