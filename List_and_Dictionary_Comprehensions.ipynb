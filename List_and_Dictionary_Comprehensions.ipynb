{
  "nbformat": 4,
  "nbformat_minor": 0,
  "metadata": {
    "colab": {
      "provenance": [],
      "authorship_tag": "ABX9TyOzEsd/1+6JizihfHT5X4hj",
      "include_colab_link": true
    },
    "kernelspec": {
      "name": "python3",
      "display_name": "Python 3"
    },
    "language_info": {
      "name": "python"
    }
  },
  "cells": [
    {
      "cell_type": "markdown",
      "metadata": {
        "id": "view-in-github",
        "colab_type": "text"
      },
      "source": [
        "<a href=\"https://colab.research.google.com/github/AncientHearings/Python_Fundamental/blob/main/List_and_Dictionary_Comprehensions.ipynb\" target=\"_parent\"><img src=\"https://colab.research.google.com/assets/colab-badge.svg\" alt=\"Open In Colab\"/></a>"
      ]
    },
    {
      "cell_type": "markdown",
      "source": [
        "##LIST COMPREHENSIONS"
      ],
      "metadata": {
        "id": "44_1As3hzsoj"
      }
    },
    {
      "cell_type": "markdown",
      "source": [
        "Provides a compact way to process all or part of the elements in a data structure.  \n",
        "  \n",
        "A list is returned with the results.  "
      ],
      "metadata": {
        "id": "GDNUAX0uzwY2"
      }
    },
    {
      "cell_type": "markdown",
      "source": [
        "[expression for item in iterable if condition]"
      ],
      "metadata": {
        "id": "kIV4n87Gz-3T"
      }
    },
    {
      "cell_type": "code",
      "execution_count": 1,
      "metadata": {
        "colab": {
          "base_uri": "https://localhost:8080/"
        },
        "id": "1nJML0Mhy6rs",
        "outputId": "28b20b23-0f9d-41b1-cb67-27a5062dfe5d"
      },
      "outputs": [
        {
          "output_type": "execute_result",
          "data": {
            "text/plain": [
              "[1.25, 2.2, 2.1666666666666665, 1.3333333333333333]"
            ]
          },
          "metadata": {},
          "execution_count": 1
        }
      ],
      "source": [
        "#EXAMPLE 1\n",
        "sequences = [\"ATCG\", \"GGCTA\", \"AAGGCT\", \"CGT\"]\n",
        "\n",
        "gc_content = [sequence.count('G')+sequence.count('C')/len(sequence)for sequence in sequences]\n",
        "\n",
        "gc_content"
      ]
    },
    {
      "cell_type": "code",
      "source": [
        "\n",
        "#EXAMPLE 2\n",
        "sequences = [\"ATCG\", \"GGCTA\", \"AAGGCT\", \"CGT\"]\n",
        "\n",
        "gc_content = [sequence.count('G')+sequence.count('C')/len(sequence)for sequence in sequences if len(sequence) % 2==0 ]\n",
        "\n",
        "gc_content"
      ],
      "metadata": {
        "colab": {
          "base_uri": "https://localhost:8080/"
        },
        "id": "dR2ubsT80rFI",
        "outputId": "f0d14104-1fc3-443a-a7ef-438205230385"
      },
      "execution_count": 3,
      "outputs": [
        {
          "output_type": "execute_result",
          "data": {
            "text/plain": [
              "[1.25, 2.1666666666666665]"
            ]
          },
          "metadata": {},
          "execution_count": 3
        }
      ]
    },
    {
      "cell_type": "code",
      "source": [
        "#NESTED LIST\n",
        "\n",
        "#EXAMPLE 3\n",
        "# Sample matrix representing gene expression levels for different samples\n",
        "gene_expression_matrix = [[2.5, 3.1, 4.2], [1.8, 2.9, 3.4], [4.1, 3.7, 2.3]]\n",
        "\n",
        "#Single list\n",
        "flattened_expression = [value for row in gene_expression_matrix for value in row]\n",
        "\n",
        "flattened_expression"
      ],
      "metadata": {
        "colab": {
          "base_uri": "https://localhost:8080/"
        },
        "id": "H0jPgN2C1CTt",
        "outputId": "3ef497e2-26cd-4327-b52c-77c74d48417a"
      },
      "execution_count": 4,
      "outputs": [
        {
          "output_type": "execute_result",
          "data": {
            "text/plain": [
              "[2.5, 3.1, 4.2, 1.8, 2.9, 3.4, 4.1, 3.7, 2.3]"
            ]
          },
          "metadata": {},
          "execution_count": 4
        }
      ]
    },
    {
      "cell_type": "markdown",
      "source": [
        "##DICTIONARY COMPREHENSIONS"
      ],
      "metadata": {
        "id": "jh-_ewde2BZ5"
      }
    },
    {
      "cell_type": "markdown",
      "source": [
        "{Key_expression: value_expression for item in iterable if condition}"
      ],
      "metadata": {
        "id": "uHhz1-_22LVu"
      }
    },
    {
      "cell_type": "code",
      "source": [
        "\n",
        "#Example 1\n",
        "# Sample list of genes and their expression values in different samples\n",
        "genes = ['GeneA', 'GeneB', 'GeneC', 'GeneD', 'GeneE']\n",
        "expression_values = [[2.5, 3.1, 4.2], [1.8, 2.9, 3.4], [4.1, 3.7, 2.3], [2.2, 3.5, 3.0], [1.5, 2.0, 2.8]]\n",
        "\n",
        "#Average expression of each gene\n",
        "average_expression = {genes[i]: sum(expression_values[i]) /len(expression_values[i]) for i in range(len(genes))}\n",
        "\n",
        "average_expression"
      ],
      "metadata": {
        "colab": {
          "base_uri": "https://localhost:8080/"
        },
        "id": "L4ITb0Ug169I",
        "outputId": "a419cc1f-962f-4843-b961-3b29726b73a2"
      },
      "execution_count": 12,
      "outputs": [
        {
          "output_type": "execute_result",
          "data": {
            "text/plain": [
              "{'GeneA': 3.266666666666667,\n",
              " 'GeneB': 2.6999999999999997,\n",
              " 'GeneC': 3.3666666666666667,\n",
              " 'GeneD': 2.9,\n",
              " 'GeneE': 2.1}"
            ]
          },
          "metadata": {},
          "execution_count": 12
        }
      ]
    },
    {
      "cell_type": "code",
      "source": [
        "#Using Conditional Logic\n",
        "\n",
        "#Example 2\n",
        "# Sample list of cell types and their growth rates\n",
        "cell_types = ['CellA', 'CellB', 'CellC', 'CellD', 'CellE']\n",
        "growth_rates = [1.2, 3.5, 2.1, 4.0, 2.8]\n",
        "\n",
        "ThresholdGrowthRate = 2.5\n",
        "\n",
        "High_Growth_Rates = {cell_types[i]:growth_rates[i]for i in range(len(cell_types))if growth_rates[i] > ThresholdGrowthRate }\n",
        "\n",
        "High_Growth_Rates"
      ],
      "metadata": {
        "colab": {
          "base_uri": "https://localhost:8080/"
        },
        "id": "Q7k7Jx1k3Hvs",
        "outputId": "701f5d86-7ba6-4e0e-aa89-e56cfee2f1c4"
      },
      "execution_count": 14,
      "outputs": [
        {
          "output_type": "execute_result",
          "data": {
            "text/plain": [
              "{'CellB': 3.5, 'CellD': 4.0, 'CellE': 2.8}"
            ]
          },
          "metadata": {},
          "execution_count": 14
        }
      ]
    },
    {
      "cell_type": "code",
      "source": [
        "#Swapping Keys and Values\n",
        "\n",
        "#Example 3\n",
        "# Original dictionary with gene IDs as keys and gene names as values\n",
        "gene_dict = {\"G001\": \"GeneA\", \"G002\": \"GeneB\", \"G003\": \"GeneC\"}\n",
        "\n",
        "#Maaping GeneIDs to GeneNames\n",
        "swapped_gene_dict = {GeneIDs:GeneNames for GeneNames, GeneIDs in gene_dict.items()}\n",
        "\n",
        "swapped_gene_dict"
      ],
      "metadata": {
        "colab": {
          "base_uri": "https://localhost:8080/"
        },
        "id": "iFxQ2QrH7IFo",
        "outputId": "21e00774-3490-4fe7-f846-46bc013a81f2"
      },
      "execution_count": 15,
      "outputs": [
        {
          "output_type": "execute_result",
          "data": {
            "text/plain": [
              "{'GeneA': 'G001', 'GeneB': 'G002', 'GeneC': 'G003'}"
            ]
          },
          "metadata": {},
          "execution_count": 15
        }
      ]
    },
    {
      "cell_type": "code",
      "source": [
        "#Nested Dictionary Comprehension\n",
        "\n",
        "#Example 4\n",
        "\n",
        "# Sample genes and their expression levels in different conditions\n",
        "genes = ['GeneA', 'GeneB', 'GeneC']\n",
        "conditions = ['Condition1', 'Condition2', 'Condition3']\n",
        "expression_levels = [1.2, 3.4, 2.1]\n",
        "\n",
        "NestedGeneExpression =  {i: {conditions[i]:expression_levels[i] for i in range(len(conditions))} for i in genes}\n",
        "\n",
        "NestedGeneExpression"
      ],
      "metadata": {
        "colab": {
          "base_uri": "https://localhost:8080/"
        },
        "id": "jM1QE8hO8o6C",
        "outputId": "84db6a7e-153b-4519-99eb-8f9fb0e7cae1"
      },
      "execution_count": 21,
      "outputs": [
        {
          "output_type": "execute_result",
          "data": {
            "text/plain": [
              "{'GeneA': {'Condition1': 1.2, 'Condition2': 3.4, 'Condition3': 2.1},\n",
              " 'GeneB': {'Condition1': 1.2, 'Condition2': 3.4, 'Condition3': 2.1},\n",
              " 'GeneC': {'Condition1': 1.2, 'Condition2': 3.4, 'Condition3': 2.1}}"
            ]
          },
          "metadata": {},
          "execution_count": 21
        }
      ]
    },
    {
      "cell_type": "code",
      "source": [],
      "metadata": {
        "id": "yfkthcxg-Av2"
      },
      "execution_count": null,
      "outputs": []
    }
  ]
}