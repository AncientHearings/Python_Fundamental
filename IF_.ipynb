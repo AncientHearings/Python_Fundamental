{
  "nbformat": 4,
  "nbformat_minor": 0,
  "metadata": {
    "colab": {
      "provenance": [],
      "toc_visible": true,
      "authorship_tag": "ABX9TyPdPKJvZg3i3/N8+y1WRU9B",
      "include_colab_link": true
    },
    "kernelspec": {
      "name": "python3",
      "display_name": "Python 3"
    },
    "language_info": {
      "name": "python"
    }
  },
  "cells": [
    {
      "cell_type": "markdown",
      "metadata": {
        "id": "view-in-github",
        "colab_type": "text"
      },
      "source": [
        "<a href=\"https://colab.research.google.com/github/AncientHearings/Python_Fundamental/blob/main/IF_.ipynb\" target=\"_parent\"><img src=\"https://colab.research.google.com/assets/colab-badge.svg\" alt=\"Open In Colab\"/></a>"
      ]
    },
    {
      "cell_type": "markdown",
      "source": [
        "##IF STATEMENTS"
      ],
      "metadata": {
        "id": "VwetDsdAZ2dk"
      }
    },
    {
      "cell_type": "markdown",
      "source": [
        "if conditional statement:\n",
        "   \n",
        "     do something"
      ],
      "metadata": {
        "id": "GS4PIixvZ9PF"
      }
    },
    {
      "cell_type": "code",
      "execution_count": 4,
      "metadata": {
        "colab": {
          "base_uri": "https://localhost:8080/"
        },
        "id": "yuzpY78TZvvo",
        "outputId": "25b48023-3044-4643-f5e0-ba4524305b5b"
      },
      "outputs": [
        {
          "output_type": "stream",
          "name": "stdout",
          "text": [
            "atgc\n",
            "ttgc\n",
            "GGCC\n",
            "aatt\n",
            "\n",
            " Finished\n"
          ]
        }
      ],
      "source": [
        "dna_sequences = ['atgc', 'ttgc', 'ggcc', 'aatt']\n",
        "\n",
        "for  sequence in dna_sequences:\n",
        "   if sequence == 'ggcc':\n",
        "     print(sequence.upper())\n",
        "   else:\n",
        "    print(sequence.lower())\n",
        "print(\"\\n Finished\")"
      ]
    },
    {
      "cell_type": "markdown",
      "source": [
        "Conditional test/statement is evaluated to True/False.  \n",
        "True/Fasle is a boolean value .  \n",
        "If the conditional test is evaluated to True, then the statement/statements following the if statement is executed and vice-versa.  \n",
        "For creating a conditional test, comparison operators are used."
      ],
      "metadata": {
        "id": "womWd8z-bnFg"
      }
    },
    {
      "cell_type": "markdown",
      "source": [
        "Comparison Operators: To compare values.  \n",
        "==, !=, >=, <=, >, and  <"
      ],
      "metadata": {
        "id": "BV6VqrjMcPIC"
      }
    },
    {
      "cell_type": "markdown",
      "source": [
        "1. Equality Operator '==':\n",
        "If the value of variable  matches the value of interest, then the conditional test is evaluated to True(Boolean Value).  \n",
        "  \n",
        "2. Inequality Operator '!=':\n",
        "If the value of variable doesn't match the value of interest, then the conditional test is evaluated to True(Boolean Value.\n",
        "  \n",
        "Boolean Value keeps track of the state of the currently running programme.  \n"
      ],
      "metadata": {
        "id": "9uCCHa0ScglT"
      }
    },
    {
      "cell_type": "code",
      "source": [
        "sequence = 'ggcc'\n",
        "sequence in dna_sequences"
      ],
      "metadata": {
        "colab": {
          "base_uri": "https://localhost:8080/"
        },
        "id": "SNUOphHzbkid",
        "outputId": "a35400ee-c9e7-4375-95ff-2e6a6628c699"
      },
      "execution_count": 5,
      "outputs": [
        {
          "output_type": "execute_result",
          "data": {
            "text/plain": [
              "True"
            ]
          },
          "metadata": {},
          "execution_count": 5
        }
      ]
    },
    {
      "cell_type": "code",
      "source": [
        "sequence = 'ggca'\n",
        "sequence in dna_sequences"
      ],
      "metadata": {
        "colab": {
          "base_uri": "https://localhost:8080/"
        },
        "id": "DYiC2TwodlRj",
        "outputId": "cc2f9547-e485-49ee-fff2-4ea0197b2717"
      },
      "execution_count": 6,
      "outputs": [
        {
          "output_type": "execute_result",
          "data": {
            "text/plain": [
              "False"
            ]
          },
          "metadata": {},
          "execution_count": 6
        }
      ]
    },
    {
      "cell_type": "markdown",
      "source": [
        "Testing for equality is case-sensitive.  \n",
        "Use string methods: lower(), title() and upper().\n"
      ],
      "metadata": {
        "id": "gIdH5wNgd0wQ"
      }
    },
    {
      "cell_type": "code",
      "source": [
        "sequence = 'gGgca'\n",
        "sequence.lower() == 'ggca'"
      ],
      "metadata": {
        "colab": {
          "base_uri": "https://localhost:8080/"
        },
        "id": "Vzw-4CYgg-ON",
        "outputId": "e79e44d1-cef9-4315-8f06-0d3ac891515b"
      },
      "execution_count": 7,
      "outputs": [
        {
          "output_type": "execute_result",
          "data": {
            "text/plain": [
              "False"
            ]
          },
          "metadata": {},
          "execution_count": 7
        }
      ]
    },
    {
      "cell_type": "markdown",
      "source": [
        "CHECKING FOR INEQUALITY  \n",
        "Inequality operator != is used.  \n",
        "If the value of variable doesn't match the value of interest, then the conditional test evaluates to True."
      ],
      "metadata": {
        "id": "5rxag30ygrAf"
      }
    },
    {
      "cell_type": "code",
      "source": [
        "sequence = 'gGgca'\n",
        "sequence.lower() != 'ggca'"
      ],
      "metadata": {
        "colab": {
          "base_uri": "https://localhost:8080/"
        },
        "id": "CncqCKp0gYbm",
        "outputId": "6bd3264c-fc44-4352-91b2-5f1c6b4c2b81"
      },
      "execution_count": 8,
      "outputs": [
        {
          "output_type": "execute_result",
          "data": {
            "text/plain": [
              "True"
            ]
          },
          "metadata": {},
          "execution_count": 8
        }
      ]
    },
    {
      "cell_type": "markdown",
      "source": [
        "NUMERICAL COMPARISONS  \n",
        "Comparison operators can be used to create conditional tests that compares numerical values.  \n",
        "\n"
      ],
      "metadata": {
        "id": "oeHs-Vm5hr55"
      }
    },
    {
      "cell_type": "code",
      "source": [
        "gc_content = 50\n",
        "gc_content == 50"
      ],
      "metadata": {
        "colab": {
          "base_uri": "https://localhost:8080/"
        },
        "id": "cUxNjoxdgYIK",
        "outputId": "5a634a2f-23df-4d4e-f60b-da7fe05615eb"
      },
      "execution_count": 9,
      "outputs": [
        {
          "output_type": "execute_result",
          "data": {
            "text/plain": [
              "True"
            ]
          },
          "metadata": {},
          "execution_count": 9
        }
      ]
    },
    {
      "cell_type": "markdown",
      "source": [
        "CHECKING MULTIPLE CONDITIONS"
      ],
      "metadata": {
        "id": "DhdbMGSAiwhl"
      }
    },
    {
      "cell_type": "markdown",
      "source": [
        "Logical operators can  be used to combine conditional tests.  \n",
        "  \n",
        "Logical Operators include and , or and not.  \n",
        "  \n",
        "For 'and' operator, conditionals tests must evaluate to True for the overall conditional expression to be evaluated as True.  \n",
        "  \n",
        "For 'or' operator, atleast one conditional test must be evaluated to True for the overall conditional expression to be evaluated as True.  \n",
        "\n",
        "  \n",
        "'not' operator reverses the result of the conditional test.  \n"
      ],
      "metadata": {
        "id": "1votgfURi1FR"
      }
    },
    {
      "cell_type": "code",
      "source": [
        "dna_sequences = ['atgc', 'ttgc', 'ggcc', 'aatt']\n",
        "\n",
        "if ('atgc' in dna_sequences) and ('ggcc' in dna_sequences):\n",
        "   print(\"\\n They are present in the list.\")"
      ],
      "metadata": {
        "colab": {
          "base_uri": "https://localhost:8080/"
        },
        "id": "e0qjF6oHgYB1",
        "outputId": "98319b0d-349e-4a07-eccb-b02e7fdd1ed7"
      },
      "execution_count": 12,
      "outputs": [
        {
          "output_type": "stream",
          "name": "stdout",
          "text": [
            "\n",
            " They are present in the list.\n"
          ]
        }
      ]
    },
    {
      "cell_type": "code",
      "source": [
        "dna_sequences = ['atgc', 'ttgc', 'ggcc', 'aatt']\n",
        "\n",
        "if ('atgc' in dna_sequences) or ('ggcc' in dna_sequences):\n",
        "   print(\"\\n They are present in the list.\")"
      ],
      "metadata": {
        "colab": {
          "base_uri": "https://localhost:8080/"
        },
        "id": "l5uokWdYlI4O",
        "outputId": "489ed497-3bf3-4cbd-ce83-cf4691cfe78f"
      },
      "execution_count": 13,
      "outputs": [
        {
          "output_type": "stream",
          "name": "stdout",
          "text": [
            "\n",
            " They are present in the list.\n"
          ]
        }
      ]
    },
    {
      "cell_type": "markdown",
      "source": [
        "CHECKING WHETEHR A VALUE IS IN A LIST  \n",
        "  \n",
        "Membership operator is used to check if a value is in a list. Membership operator include in and not in.  \n",
        "\n",
        "If present, the conditional test evaluates to True.  \n",
        "If not present, the conditional test evaluates to False.  \n",
        "\n"
      ],
      "metadata": {
        "id": "z2x9doJxlO76"
      }
    },
    {
      "cell_type": "code",
      "source": [
        "dna_sequences = ['atgc', 'ttgc', 'ggcc', 'aatt']\n",
        "\n",
        "if ('atgc' not in dna_sequences) or ('ggcc' not in dna_sequences):\n",
        "   print(\"\\n They are present in the list.\")"
      ],
      "metadata": {
        "id": "_Y9vfJx7lMwW"
      },
      "execution_count": 14,
      "outputs": []
    },
    {
      "cell_type": "markdown",
      "source": [
        "BOOLEAN EXPRESSIONS  \n",
        "Boolean Value is True/False.  \n",
        "Boolean value is used to track the state of a programme or a condition .  \n"
      ],
      "metadata": {
        "id": "eOCK_xU0mDpk"
      }
    },
    {
      "cell_type": "code",
      "source": [
        "gc_content = 50\n",
        "gc_content == 50"
      ],
      "metadata": {
        "colab": {
          "base_uri": "https://localhost:8080/"
        },
        "id": "kalXIPTkmcX-",
        "outputId": "05124364-9d4b-4c11-bbb1-ddb1457b64f5"
      },
      "execution_count": 15,
      "outputs": [
        {
          "output_type": "execute_result",
          "data": {
            "text/plain": [
              "True"
            ]
          },
          "metadata": {},
          "execution_count": 15
        }
      ]
    },
    {
      "cell_type": "markdown",
      "source": [
        "##IF STATEMENTS"
      ],
      "metadata": {
        "id": "l2v7l5n1mpRJ"
      }
    },
    {
      "cell_type": "code",
      "source": [
        "'''\n",
        "if conditional test/expression:\n",
        "   do something....\n",
        "'''\n",
        "\n",
        "#If the conditional test evaluates to True, then the intended statement/statements following the if the statement is executed.\n",
        "#If the conditional test evaluates to False, then the intended statement/statements following the if the statement is not executed."
      ],
      "metadata": {
        "colab": {
          "base_uri": "https://localhost:8080/",
          "height": 36
        },
        "id": "wL07x_tTmcSj",
        "outputId": "4c0b4548-69c1-4e65-926b-639bf024888e"
      },
      "execution_count": 16,
      "outputs": [
        {
          "output_type": "execute_result",
          "data": {
            "text/plain": [
              "'\\nif conditional test/expression:\\n   do something....\\n'"
            ],
            "application/vnd.google.colaboratory.intrinsic+json": {
              "type": "string"
            }
          },
          "metadata": {},
          "execution_count": 16
        }
      ]
    },
    {
      "cell_type": "code",
      "source": [
        "sequence = \"ATGCGTACGTTAGC\"\n",
        "\n",
        "if 'ATG' in sequence:\n",
        "   print(\"\\n The start codon ATG is present in the provided sequence.\")\n"
      ],
      "metadata": {
        "colab": {
          "base_uri": "https://localhost:8080/"
        },
        "id": "-_KTYF7xmC7b",
        "outputId": "1588f089-42ec-45bb-8c49-55ca9180399f"
      },
      "execution_count": 17,
      "outputs": [
        {
          "output_type": "stream",
          "name": "stdout",
          "text": [
            "\n",
            " The start codon ATG is present in the provided sequence.\n"
          ]
        }
      ]
    },
    {
      "cell_type": "markdown",
      "source": [
        "if -else statements\n",
        "\n",
        "In case , the conditional test following the if statement evaluates to False. The else statement can be used to execute a desired statement/statements.  \n",
        "  \n",
        "The else statement is a catchall statement meaning that it catches any condition that wasn't matched by previous if statement.  \n",
        "  \n"
      ],
      "metadata": {
        "id": "w2bTgsPZoHND"
      }
    },
    {
      "cell_type": "code",
      "source": [
        "sequence = \"ATGCGTACGTTAGC\"\n",
        "\n",
        "if 'ATG' in sequence:\n",
        "   print(\"\\n The start codon ATG is present in the provided sequence.\")\n",
        "else:\n",
        "  print(\"\\n The start codon ATG isn't present in the provided sequence.\")\n"
      ],
      "metadata": {
        "colab": {
          "base_uri": "https://localhost:8080/"
        },
        "id": "0mOYXDvroFLD",
        "outputId": "4821634a-2990-4743-e98d-487be2cc356f"
      },
      "execution_count": 18,
      "outputs": [
        {
          "output_type": "stream",
          "name": "stdout",
          "text": [
            "\n",
            " The start codon ATG is present in the provided sequence.\n"
          ]
        }
      ]
    },
    {
      "cell_type": "markdown",
      "source": [
        "The if-elif-else Chain"
      ],
      "metadata": {
        "id": "KtyImi94pr9O"
      }
    },
    {
      "cell_type": "code",
      "source": [
        "#If there is another conditional test to be evaluated after the one followed by the if statment, elif statement can be used.\n",
        "sequence = \"ATGCGTACGTTAGC\"\n",
        "\n",
        "if 'ATG' in sequence:\n",
        "   print(\"\\n The start codon ATG is present in the provided sequence.\")\n",
        "elif 'TAA' in sequence:\n",
        "  print(\"\\n The stop codon TAA is present in the provided sequence.\")\n",
        "else:\n",
        "  print(\"\\n The start codon ATG isn't present in the provided sequence.\")\n"
      ],
      "metadata": {
        "colab": {
          "base_uri": "https://localhost:8080/"
        },
        "id": "uCgmrpOwpqAJ",
        "outputId": "1b76c1e2-4436-4df0-94bb-8e8afd3a78d4"
      },
      "execution_count": 19,
      "outputs": [
        {
          "output_type": "stream",
          "name": "stdout",
          "text": [
            "\n",
            " The start codon ATG is present in the provided sequence.\n"
          ]
        }
      ]
    },
    {
      "cell_type": "markdown",
      "source": [
        "USING MULTIPLE ELIF BLOCKS  \n",
        "  \n",
        "Multiple elifs can be used if there are many conditional tests.  \n",
        "\n",
        "If one conditional test is evaluated to True, then python skips the rest of the conditional test.  \n",
        "  \n",
        "Instead of the else statement, elif statement can be used if there is a specific condition of interest.  \n",
        "  \n",
        "The else satement is a catchall statement. It catches any condition that wasn't catched by previous statements.It can include malicious/invalid data.\n"
      ],
      "metadata": {
        "id": "BmviNRrEqVA7"
      }
    },
    {
      "cell_type": "code",
      "source": [
        "sequence = \"ATGCGTACGTTAGC\"\n",
        "\n",
        "if 'ATG' in sequence:\n",
        "   print(\"\\n The start codon ATG is present in the provided sequence.\")\n",
        "elif 'TAA' in sequence:\n",
        "  print(\"\\n The stop codon TAA is present in the provided sequence.\")\n",
        "elif 'ATG' not in sequence:\n",
        "  print(\"\\n The start codon ATG isn't present in the provided sequence.\")\n"
      ],
      "metadata": {
        "colab": {
          "base_uri": "https://localhost:8080/"
        },
        "id": "XrG-TTyYqGjQ",
        "outputId": "e19ba6d9-1fcd-459b-fe82-5cff801e4f26"
      },
      "execution_count": 20,
      "outputs": [
        {
          "output_type": "stream",
          "name": "stdout",
          "text": [
            "\n",
            " The start codon ATG is present in the provided sequence.\n"
          ]
        }
      ]
    },
    {
      "cell_type": "markdown",
      "source": [
        "TESTING MULTIPLE CONDITIONS  \n",
        "  \n",
        "Multiple independent if statements can be used.  \n",
        "  \n",
        "  \n",
        "All conditional tests will be evaluated."
      ],
      "metadata": {
        "id": "Wk6qTQ1qtw7E"
      }
    },
    {
      "cell_type": "code",
      "source": [
        "sequence = \"ATGCGTACGTTAGC\"\n",
        "\n",
        "if \"ATG\" in sequence:\n",
        "    print(\"Start codon found!\")\n",
        "\n",
        "if \"TAA\" in sequence or \"TAG\" in sequence or \"TGA\" in sequence:\n",
        "    print(\"Stop codon found!\")\n",
        "\n",
        "if \"CG\" in sequence:\n",
        "    print(\"CpG site detected!\")\n"
      ],
      "metadata": {
        "colab": {
          "base_uri": "https://localhost:8080/"
        },
        "id": "KWrjbPvHtuYS",
        "outputId": "176f4baa-2366-4f97-fbc2-1b0922b823c1"
      },
      "execution_count": 21,
      "outputs": [
        {
          "output_type": "stream",
          "name": "stdout",
          "text": [
            "Start codon found!\n",
            "Stop codon found!\n",
            "CpG site detected!\n"
          ]
        }
      ]
    },
    {
      "cell_type": "code",
      "source": [],
      "metadata": {
        "id": "EH-_crJXuRLA"
      },
      "execution_count": null,
      "outputs": []
    },
    {
      "cell_type": "markdown",
      "source": [
        "##Using if Statements with Lists"
      ],
      "metadata": {
        "id": "T64laA9VuU14"
      }
    },
    {
      "cell_type": "markdown",
      "source": [
        "Checking for Special Items  \n",
        "  \n",
        "Memebership operators: in and not in.They are used to check for a specific value in a data structure.  \n",
        "  \n"
      ],
      "metadata": {
        "id": "JxS8Nn_Rub5K"
      }
    },
    {
      "cell_type": "code",
      "source": [
        "essential_amino_acids = {\"Histidine\", \"Isoleucine\", \"Leucine\", \"Lysine\", \"Methionine\",\n",
        "                          \"Phenylalanine\", \"Threonine\", \"Tryptophan\", \"Valine\"}\n",
        "\n",
        "amino_acid = input(\"Enter the amino acid: \")\n",
        "\n",
        "if amino_acid in essential_amino_acids:\n",
        "  print(f\"\\n {amino_acid} is an essential amino acid.\")\n",
        "if amino_acid not in essential_amino_acids:\n",
        "  print(f\"\\n {amino_acid} is not an essential amino acid.\")"
      ],
      "metadata": {
        "colab": {
          "base_uri": "https://localhost:8080/"
        },
        "id": "1c6aildPuaLL",
        "outputId": "03dfa8e5-feb1-4b0d-bc62-8be2515ec68b"
      },
      "execution_count": 24,
      "outputs": [
        {
          "output_type": "stream",
          "name": "stdout",
          "text": [
            "Enter the amino acid: Arginine\n",
            "\n",
            " Arginine is not an essential amino acid.\n"
          ]
        }
      ]
    },
    {
      "cell_type": "markdown",
      "source": [
        "Checking that a list is not empty   \n"
      ],
      "metadata": {
        "id": "oqeMIMC9vq-4"
      }
    },
    {
      "cell_type": "code",
      "source": [
        "essential_amino_acids = {}\n",
        "amino_acid = ''\n",
        "\n",
        "if amino_acid in essential_amino_acids:\n",
        "  print(f\"\\n {amino_acid} is an essential amino acid.\")\n",
        "if amino_acid not in essential_amino_acids:\n",
        "  print(f\"\\n {amino_acid} is not an essential amino acid.\")\n",
        "elif len(essential_amino_acids) == 0:\n",
        "  print(\"\\nThe list is empty.\")"
      ],
      "metadata": {
        "colab": {
          "base_uri": "https://localhost:8080/"
        },
        "id": "75OAJL-ivZVr",
        "outputId": "5fb00954-727b-4397-9c78-88067ba80f61"
      },
      "execution_count": 27,
      "outputs": [
        {
          "output_type": "stream",
          "name": "stdout",
          "text": [
            "\n",
            "  is not an essential amino acid.\n"
          ]
        }
      ]
    },
    {
      "cell_type": "markdown",
      "source": [
        "Using Multiple Lists  \n",
        "\n",
        "\n",
        "```\n",
        "# This is formatted as code\n",
        "```\n",
        "\n"
      ],
      "metadata": {
        "id": "KR15vNyQwW8I"
      }
    },
    {
      "cell_type": "code",
      "source": [
        "essential_amino_acids = [\"Histidine\", \"Isoleucine\", \"Leucine\", \"Lysine\", \"Methionine\",\n",
        "                          \"Phenylalanine\", \"Threonine\", \"Tryptophan\", \"Valine\"]\n",
        "non_essential_amino_acids = [\"Alanine\", \"Asparagine\", \"Aspartic acid\", \"Glutamic acid\", \"Glycine\",\n",
        "                              \"Proline\", \"Serine\", \"Tyrosine\"]\n",
        "\n",
        "amino_acid = \"Glycine\"\n",
        "if amino_acid in essential_amino_acids:\n",
        "  print(f\"\\n {amino_acid} is an essential amino acid.\")\n",
        "elif amino_acid in essential_amino_acids:\n",
        "  print(f\"\\n {amino_acid} is an non-essential amino acid.\")\n",
        "\n"
      ],
      "metadata": {
        "id": "c-0kDoNUwJfL"
      },
      "execution_count": 31,
      "outputs": []
    },
    {
      "cell_type": "markdown",
      "source": [
        "STYLING IF STATEMENTS"
      ],
      "metadata": {
        "id": "YUZe1-WvxA5R"
      }
    },
    {
      "cell_type": "markdown",
      "source": [
        "Space is provided around comparison operators for readability.  \n",
        "  \n",
        "Spacing has no effect on execution."
      ],
      "metadata": {
        "id": "DE3CDyY6xGKL"
      }
    },
    {
      "cell_type": "code",
      "source": [
        "essential_amino_acids = {\"Histidine\", \"Isoleucine\", \"Leucine\", \"Lysine\", \"Methionine\",\n",
        "                          \"Phenylalanine\", \"Threonine\", \"Tryptophan\", \"Valine\"}\n",
        "\n",
        "amino_acid = input(\"Enter the amino acid: \")\n",
        "\n",
        "if (amino_acid in essential_amino_acids):\n",
        "  print(f\"\\n {amino_acid} is an essential amino acid.\")\n",
        "if (amino_acid not in essential_amino_acids):\n",
        "  print(f\"\\n {amino_acid} is not an essential amino acid.\")"
      ],
      "metadata": {
        "colab": {
          "base_uri": "https://localhost:8080/"
        },
        "id": "i7MWIhOdwyY2",
        "outputId": "a0e0678f-b2b3-4d19-822c-c36d0bd73892"
      },
      "execution_count": 32,
      "outputs": [
        {
          "output_type": "stream",
          "name": "stdout",
          "text": [
            "Enter the amino acid: Glycine\n",
            "\n",
            " Glycine is not an essential amino acid.\n"
          ]
        }
      ]
    },
    {
      "cell_type": "code",
      "source": [
        "gc_content = 50\n",
        "gc_content == 50"
      ],
      "metadata": {
        "colab": {
          "base_uri": "https://localhost:8080/"
        },
        "id": "kQIn2SRqxe_t",
        "outputId": "c8548c07-a2d0-4045-8cd5-6b112b702edd"
      },
      "execution_count": 33,
      "outputs": [
        {
          "output_type": "execute_result",
          "data": {
            "text/plain": [
              "True"
            ]
          },
          "metadata": {},
          "execution_count": 33
        }
      ]
    },
    {
      "cell_type": "code",
      "source": [],
      "metadata": {
        "id": "Ymf3NOAmxqY-"
      },
      "execution_count": null,
      "outputs": []
    }
  ]
}