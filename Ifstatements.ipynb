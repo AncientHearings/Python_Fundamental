{
  "nbformat": 4,
  "nbformat_minor": 0,
  "metadata": {
    "colab": {
      "provenance": [],
      "authorship_tag": "ABX9TyOG5KaFAFxUJOWjW2luzOun",
      "include_colab_link": true
    },
    "kernelspec": {
      "name": "python3",
      "display_name": "Python 3"
    },
    "language_info": {
      "name": "python"
    }
  },
  "cells": [
    {
      "cell_type": "markdown",
      "metadata": {
        "id": "view-in-github",
        "colab_type": "text"
      },
      "source": [
        "<a href=\"https://colab.research.google.com/github/AncientHearings/Python_Fundamental/blob/main/Ifstatements.ipynb\" target=\"_parent\"><img src=\"https://colab.research.google.com/assets/colab-badge.svg\" alt=\"Open In Colab\"/></a>"
      ]
    },
    {
      "cell_type": "code",
      "execution_count": null,
      "metadata": {
        "colab": {
          "base_uri": "https://localhost:8080/",
          "height": 106
        },
        "id": "DmwOnwrSz_sl",
        "outputId": "2544eda3-17fe-4311-fd14-375c3723fc50"
      },
      "outputs": [
        {
          "output_type": "error",
          "ename": "IndentationError",
          "evalue": "unexpected indent (<ipython-input-1-33b024f7bd5e>, line 2)",
          "traceback": [
            "\u001b[0;36m  File \u001b[0;32m\"<ipython-input-1-33b024f7bd5e>\"\u001b[0;36m, line \u001b[0;32m2\u001b[0m\n\u001b[0;31m    '''\u001b[0m\n\u001b[0m    ^\u001b[0m\n\u001b[0;31mIndentationError\u001b[0m\u001b[0;31m:\u001b[0m unexpected indent\n"
          ]
        }
      ],
      "source": [
        "#If statement\n",
        " '''\n",
        " if conditional test:\n",
        "    do something....\n",
        " '''"
      ]
    },
    {
      "cell_type": "code",
      "source": [
        "#Conditional Tests\n",
        "#Conditional Test is evaluated to True/False(Boolean Value).\n",
        "#If the conditional test is evaluated to True, then the intented statement/statements following the if statement is executed and vice versa.\"\"\n",
        "\n",
        "\n"
      ],
      "metadata": {
        "id": "VGGvsQu67t2E"
      },
      "execution_count": null,
      "outputs": []
    },
    {
      "cell_type": "code",
      "source": [
        "#To check for if two values are qual, equality operator '==' is used.\n",
        "  #If the value of variable matches the value of interest, then the concditional test is evaluated to True.\n"
      ],
      "metadata": {
        "id": "5tbMw-pI8TL6"
      },
      "execution_count": null,
      "outputs": []
    },
    {
      "cell_type": "code",
      "source": [
        "#Comparison is case-sensitive.\n",
        "#To make it case-insensitive, lower() method can be used.\n"
      ],
      "metadata": {
        "id": "k_LC247181tv"
      },
      "execution_count": null,
      "outputs": []
    },
    {
      "cell_type": "code",
      "source": [
        "#TO check for inequality, != can be used.\n",
        "#If the value of variable doesn't match the specific value of interest, then the conditional test evaluated to be True and vice-versa."
      ],
      "metadata": {
        "id": "PWCF2Nzw9wXH"
      },
      "execution_count": null,
      "outputs": []
    },
    {
      "cell_type": "code",
      "source": [
        "#Numerical comparisons can be done using all comparison operators."
      ],
      "metadata": {
        "id": "XnV7LXj8-I-6"
      },
      "execution_count": null,
      "outputs": []
    },
    {
      "cell_type": "markdown",
      "source": [
        "Checking Multple Conditions"
      ],
      "metadata": {
        "id": "JspiWdUf-SiK"
      }
    },
    {
      "cell_type": "code",
      "source": [
        "#Conditional statements can be combibned using logical operators.\n",
        "  #Logical Operator: To combine conditional statements.or & not.\n",
        "#or\n",
        "  #Ateast one of the conditional statement must evaluate to True for the conditional expression to evaluate to True.\n",
        "#and\n",
        "  #All the conditional statements must evaluate to True for the overall conditional expression to evaluate to True.\n",
        "#not\n",
        "  #Reverse the evaluation. True if False and False if True.\n",
        "\n",
        "#The conditional test is enclosed within round brackets for better readability.\n"
      ],
      "metadata": {
        "id": "nCj98mkl-Xbb"
      },
      "execution_count": null,
      "outputs": []
    },
    {
      "cell_type": "markdown",
      "source": [
        "Checking Whether a Value Is in a List"
      ],
      "metadata": {
        "id": "S0uvevDPAPZa"
      }
    },
    {
      "cell_type": "code",
      "source": [
        "#Membership operator can be used to check for a specific value in a data structure.\n",
        "#It includes: in and not in.\n",
        "#The conditional test is evaluated to True(Boolean Value). Returns True. Vice-versa.\n"
      ],
      "metadata": {
        "id": "8ZaPtp1IAOje"
      },
      "execution_count": null,
      "outputs": []
    },
    {
      "cell_type": "markdown",
      "source": [
        "Checking Whether a Value is Not in a List"
      ],
      "metadata": {
        "id": "TnSUMTEgCku8"
      }
    },
    {
      "cell_type": "code",
      "source": [
        "#Membership operator 'not in' is used.\n",
        "#Boolean value(True/False) is returned.\n"
      ],
      "metadata": {
        "id": "kelOBvXDCpwV"
      },
      "execution_count": null,
      "outputs": []
    },
    {
      "cell_type": "markdown",
      "source": [
        "Boolean Expressions"
      ],
      "metadata": {
        "id": "ok3CJCwgC5-l"
      }
    },
    {
      "cell_type": "code",
      "source": [
        "#Boolean value keeps track of the  state of a programme.\n",
        "#Boolean value is True/False.\n"
      ],
      "metadata": {
        "id": "t00Jj1BBC74Y"
      },
      "execution_count": null,
      "outputs": []
    },
    {
      "cell_type": "code",
      "source": [
        "python test.py"
      ],
      "metadata": {
        "colab": {
          "base_uri": "https://localhost:8080/",
          "height": 106
        },
        "id": "Yh9S1lLeDZaR",
        "outputId": "2dfc0fab-b59f-4277-f6d7-e468cb10bc68"
      },
      "execution_count": null,
      "outputs": [
        {
          "output_type": "error",
          "ename": "SyntaxError",
          "evalue": "invalid syntax (<ipython-input-8-83c175a3a2f1>, line 1)",
          "traceback": [
            "\u001b[0;36m  File \u001b[0;32m\"<ipython-input-8-83c175a3a2f1>\"\u001b[0;36m, line \u001b[0;32m1\u001b[0m\n\u001b[0;31m    python test.py\u001b[0m\n\u001b[0m           ^\u001b[0m\n\u001b[0;31mSyntaxError\u001b[0m\u001b[0;31m:\u001b[0m invalid syntax\n"
          ]
        }
      ]
    },
    {
      "cell_type": "code",
      "source": [],
      "metadata": {
        "id": "_PxWQBW7EkZV"
      },
      "execution_count": null,
      "outputs": []
    }
  ]
}