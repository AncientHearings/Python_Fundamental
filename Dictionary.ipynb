{
  "nbformat": 4,
  "nbformat_minor": 0,
  "metadata": {
    "colab": {
      "provenance": [],
      "authorship_tag": "ABX9TyOzcH167i714fEazzZz1LNS",
      "include_colab_link": true
    },
    "kernelspec": {
      "name": "python3",
      "display_name": "Python 3"
    },
    "language_info": {
      "name": "python"
    }
  },
  "cells": [
    {
      "cell_type": "markdown",
      "metadata": {
        "id": "view-in-github",
        "colab_type": "text"
      },
      "source": [
        "<a href=\"https://colab.research.google.com/github/AncientHearings/Python_Fundamental/blob/main/Dictionary.ipynb\" target=\"_parent\"><img src=\"https://colab.research.google.com/assets/colab-badge.svg\" alt=\"Open In Colab\"/></a>"
      ]
    },
    {
      "cell_type": "markdown",
      "source": [
        "##DICTIONARY"
      ],
      "metadata": {
        "id": "OyKbaemLx0qC"
      }
    },
    {
      "cell_type": "markdown",
      "source": [
        "- Dictionary is a data structure. Data structure is a way of storing data. Data structure include list, dictionary, tuple and set.   \n",
        "  \n",
        "- Dictionary is a collection of key-value pairs. The value can be of any data type(numeric, text, bool, Sequencing, Mapping, Set and None)\n",
        "  \n",
        "- key is separated from colon by a colon. Key-value pairs are separated by commas.There can be as many as key-value pairs as desired. The key-value pairs is enclosed within curly brackets.  \n",
        "  \n",
        "- Key can be used to access the corresponding value.  \n"
      ],
      "metadata": {
        "id": "x-WnAKHtx8jI"
      }
    },
    {
      "cell_type": "code",
      "execution_count": 1,
      "metadata": {
        "colab": {
          "base_uri": "https://localhost:8080/"
        },
        "id": "uNSx0_ZKxxCh",
        "outputId": "89069358-0641-45aa-d7c7-448f9fe7a442"
      },
      "outputs": [
        {
          "output_type": "execute_result",
          "data": {
            "text/plain": [
              "{'ATA': 'Isoleucine',\n",
              " 'ATC': 'Isoleucine',\n",
              " 'ATT': 'Isoleucine',\n",
              " 'ATG': 'Methionine',\n",
              " 'ACA': 'Threonine',\n",
              " 'ACC': 'Threonine',\n",
              " 'ACG': 'Threonine',\n",
              " 'ACT': 'Threonine',\n",
              " 'AAC': 'Asparagine',\n",
              " 'AAT': 'Asparagine',\n",
              " 'AAA': 'Lysine',\n",
              " 'AAG': 'Lysine',\n",
              " 'AGC': 'Serine',\n",
              " 'AGT': 'Serine',\n",
              " 'AGA': 'Arginine',\n",
              " 'AGG': 'Arginine',\n",
              " 'CTA': 'Leucine',\n",
              " 'CTC': 'Leucine',\n",
              " 'CTG': 'Leucine',\n",
              " 'CTT': 'Leucine',\n",
              " 'CCA': 'Proline',\n",
              " 'CCC': 'Proline',\n",
              " 'CCG': 'Proline',\n",
              " 'CCT': 'Proline',\n",
              " 'CAC': 'Histidine',\n",
              " 'CAT': 'Histidine',\n",
              " 'CAA': 'Glutamine',\n",
              " 'CAG': 'Glutamine',\n",
              " 'CGA': 'Arginine',\n",
              " 'CGC': 'Arginine',\n",
              " 'CGG': 'Arginine',\n",
              " 'CGT': 'Arginine',\n",
              " 'GTA': 'Valine',\n",
              " 'GTC': 'Valine',\n",
              " 'GTG': 'Valine',\n",
              " 'GTT': 'Valine',\n",
              " 'GCA': 'Alanine',\n",
              " 'GCC': 'Alanine',\n",
              " 'GCG': 'Alanine',\n",
              " 'GCT': 'Alanine',\n",
              " 'GAC': 'Aspartic Acid',\n",
              " 'GAT': 'Aspartic Acid',\n",
              " 'GAA': 'Glutamic Acid',\n",
              " 'GAG': 'Glutamic Acid',\n",
              " 'GGA': 'Glycine',\n",
              " 'GGC': 'Glycine',\n",
              " 'GGG': 'Glycine',\n",
              " 'GGT': 'Glycine',\n",
              " 'TCA': 'Serine',\n",
              " 'TCC': 'Serine',\n",
              " 'TCG': 'Serine',\n",
              " 'TCT': 'Serine',\n",
              " 'TTC': 'Phenylalanine',\n",
              " 'TTT': 'Phenylalanine',\n",
              " 'TTA': 'Leucine',\n",
              " 'TTG': 'Leucine',\n",
              " 'TAC': 'Tyrosine',\n",
              " 'TAT': 'Tyrosine',\n",
              " 'TAA': 'Stop',\n",
              " 'TAG': 'Stop',\n",
              " 'TGC': 'Cysteine',\n",
              " 'TGT': 'Cysteine',\n",
              " 'TGA': 'Stop',\n",
              " 'TGG': 'Tryptophan'}"
            ]
          },
          "metadata": {},
          "execution_count": 1
        }
      ],
      "source": [
        "codon_table = {\n",
        "    \"ATA\": \"Isoleucine\", \"ATC\": \"Isoleucine\", \"ATT\": \"Isoleucine\", \"ATG\": \"Methionine\",\n",
        "    \"ACA\": \"Threonine\", \"ACC\": \"Threonine\", \"ACG\": \"Threonine\", \"ACT\": \"Threonine\",\n",
        "    \"AAC\": \"Asparagine\", \"AAT\": \"Asparagine\", \"AAA\": \"Lysine\", \"AAG\": \"Lysine\",\n",
        "    \"AGC\": \"Serine\", \"AGT\": \"Serine\", \"AGA\": \"Arginine\", \"AGG\": \"Arginine\",\n",
        "    \"CTA\": \"Leucine\", \"CTC\": \"Leucine\", \"CTG\": \"Leucine\", \"CTT\": \"Leucine\",\n",
        "    \"CCA\": \"Proline\", \"CCC\": \"Proline\", \"CCG\": \"Proline\", \"CCT\": \"Proline\",\n",
        "    \"CAC\": \"Histidine\", \"CAT\": \"Histidine\", \"CAA\": \"Glutamine\", \"CAG\": \"Glutamine\",\n",
        "    \"CGA\": \"Arginine\", \"CGC\": \"Arginine\", \"CGG\": \"Arginine\", \"CGT\": \"Arginine\",\n",
        "    \"GTA\": \"Valine\", \"GTC\": \"Valine\", \"GTG\": \"Valine\", \"GTT\": \"Valine\",\n",
        "    \"GCA\": \"Alanine\", \"GCC\": \"Alanine\", \"GCG\": \"Alanine\", \"GCT\": \"Alanine\",\n",
        "    \"GAC\": \"Aspartic Acid\", \"GAT\": \"Aspartic Acid\", \"GAA\": \"Glutamic Acid\", \"GAG\": \"Glutamic Acid\",\n",
        "    \"GGA\": \"Glycine\", \"GGC\": \"Glycine\", \"GGG\": \"Glycine\", \"GGT\": \"Glycine\",\n",
        "    \"TCA\": \"Serine\", \"TCC\": \"Serine\", \"TCG\": \"Serine\", \"TCT\": \"Serine\",\n",
        "    \"TTC\": \"Phenylalanine\", \"TTT\": \"Phenylalanine\", \"TTA\": \"Leucine\", \"TTG\": \"Leucine\",\n",
        "    \"TAC\": \"Tyrosine\", \"TAT\": \"Tyrosine\", \"TAA\": \"Stop\", \"TAG\": \"Stop\",\n",
        "    \"TGC\": \"Cysteine\", \"TGT\": \"Cysteine\", \"TGA\": \"Stop\", \"TGG\": \"Tryptophan\"\n",
        "}\n",
        "\n",
        "codon_table"
      ]
    },
    {
      "cell_type": "markdown",
      "source": [
        "Accessing Values in a Dictionary\n"
      ],
      "metadata": {
        "id": "iw2H2fdp0IxC"
      }
    },
    {
      "cell_type": "markdown",
      "source": [
        "-To access a value in a dictionary, put the key inside the square brackets associated with the dictionary's name.  \n",
        "  \n"
      ],
      "metadata": {
        "id": "T91J0HtT0OUh"
      }
    },
    {
      "cell_type": "code",
      "source": [
        "codon_table['TGT']"
      ],
      "metadata": {
        "colab": {
          "base_uri": "https://localhost:8080/",
          "height": 36
        },
        "id": "vbPdSEci0B9e",
        "outputId": "562997aa-aea5-40e6-c87a-81e2ff5b1a74"
      },
      "execution_count": 3,
      "outputs": [
        {
          "output_type": "execute_result",
          "data": {
            "text/plain": [
              "'Cysteine'"
            ],
            "application/vnd.google.colaboratory.intrinsic+json": {
              "type": "string"
            }
          },
          "metadata": {},
          "execution_count": 3
        }
      ]
    },
    {
      "cell_type": "markdown",
      "source": [
        "Adding New Key-Value pairs"
      ],
      "metadata": {
        "id": "3iS02QS70t6l"
      }
    },
    {
      "cell_type": "markdown",
      "source": [
        "- Dictionary is dynamic.  \n",
        "  \n",
        "- To add a new key-value pair, put the key inside the square brackets attached with the dictionary's name and assing the new value to it.  \n",
        "  \n",
        "- Dictionary is an ordered collection. The new key-value pair is added to the end of the list.  "
      ],
      "metadata": {
        "id": "D_H6tH-x0yDN"
      }
    },
    {
      "cell_type": "code",
      "source": [
        "codon_table['NNN'] = ['Unknown']\n",
        "\n",
        "print(f\"The amino acid for the codon NNN is {codon_table['NNN']}\")"
      ],
      "metadata": {
        "colab": {
          "base_uri": "https://localhost:8080/"
        },
        "id": "Ab4tY2sl0pdY",
        "outputId": "ab8a0c8e-cb55-44fa-f5ae-7fa21af87c0f"
      },
      "execution_count": 4,
      "outputs": [
        {
          "output_type": "stream",
          "name": "stdout",
          "text": [
            "The amino acid for the codon NNN is ['Unknown']\n"
          ]
        }
      ]
    },
    {
      "cell_type": "markdown",
      "source": [
        "Start with an Empty Dictionary"
      ],
      "metadata": {
        "id": "nwJxgAfh2Apt"
      }
    },
    {
      "cell_type": "markdown",
      "source": [
        "- Dictionary is dynamic.\n",
        "  \n",
        "- The previous of adding a new key-value pair can be used to fill an empty dictionary."
      ],
      "metadata": {
        "id": "YaDWHqb12GO5"
      }
    },
    {
      "cell_type": "code",
      "source": [
        "#Empty Dictionary\n",
        "nucleotide_counts = {}\n",
        "\n",
        "#Adding new key-value pairs dynamically\n",
        "nucleotide_counts['A'] = 20\n",
        "nucleotide_counts['T'] = 18\n",
        "nucleotide_counts['G'] = 22\n",
        "nucleotide_counts['C'] = 19\n",
        "\n",
        "nucleotide_counts"
      ],
      "metadata": {
        "colab": {
          "base_uri": "https://localhost:8080/"
        },
        "id": "gVUtvCtD1te4",
        "outputId": "dc5f9f0b-59f4-419d-b2b4-666bd851ca01"
      },
      "execution_count": 5,
      "outputs": [
        {
          "output_type": "execute_result",
          "data": {
            "text/plain": [
              "{'A': 20, 'T': 18, 'G': 22, 'C': 19}"
            ]
          },
          "metadata": {},
          "execution_count": 5
        }
      ]
    },
    {
      "cell_type": "markdown",
      "source": [
        "Modifying Values in a Dictionary"
      ],
      "metadata": {
        "id": "S9B8DQzs3E1N"
      }
    },
    {
      "cell_type": "markdown",
      "source": [
        "- To add a new value to a key, put the key inside square brackets attached with the dictionary's name and assign a new value to it."
      ],
      "metadata": {
        "id": "o98Xv91p3MhR"
      }
    },
    {
      "cell_type": "code",
      "source": [
        "nucleotide_counts['C'] = 22\n",
        "\n",
        "nucleotide_counts"
      ],
      "metadata": {
        "colab": {
          "base_uri": "https://localhost:8080/"
        },
        "id": "shoQJ3S43CfB",
        "outputId": "0d452fdb-1c77-4bb3-b69a-68eb211aaba6"
      },
      "execution_count": 6,
      "outputs": [
        {
          "output_type": "execute_result",
          "data": {
            "text/plain": [
              "{'A': 20, 'T': 18, 'G': 22, 'C': 22}"
            ]
          },
          "metadata": {},
          "execution_count": 6
        }
      ]
    },
    {
      "cell_type": "markdown",
      "source": [
        "Removing Key-Value Pairs"
      ],
      "metadata": {
        "id": "ZjXvPTRI3ny5"
      }
    },
    {
      "cell_type": "markdown",
      "source": [
        "- del statement is used to remove the key-value pair.  \n",
        "  \n",
        "- Syntax:\n",
        "del dictionary_name['key']\n",
        "\n",
        "- The key with the corresponding value is removed permanently."
      ],
      "metadata": {
        "id": "4j_nP28_3q2s"
      }
    },
    {
      "cell_type": "code",
      "source": [
        "del nucleotide_counts['C']\n",
        "\n",
        "nucleotide_counts"
      ],
      "metadata": {
        "colab": {
          "base_uri": "https://localhost:8080/"
        },
        "id": "n_XzDtO93iU6",
        "outputId": "74f421d6-6a6e-4371-dd74-66ba5425f590"
      },
      "execution_count": 7,
      "outputs": [
        {
          "output_type": "execute_result",
          "data": {
            "text/plain": [
              "{'A': 20, 'T': 18, 'G': 22}"
            ]
          },
          "metadata": {},
          "execution_count": 7
        }
      ]
    },
    {
      "cell_type": "markdown",
      "source": [
        "Using get() to Access Values\n"
      ],
      "metadata": {
        "id": "UmjChFyZ4IWi"
      }
    },
    {
      "cell_type": "markdown",
      "source": [
        "- get() method can be used to access values corresponding to a  key . In case the key doesn't exits, a default value will be displayed.  \n",
        "  \n",
        "- Two arguments is passed to the get() method. The first is the key  while the second is the default value.  \n",
        "  "
      ],
      "metadata": {
        "id": "lzSIAzD14QTS"
      }
    },
    {
      "cell_type": "code",
      "source": [
        "# Dictionary storing organelle functions\n",
        "cell_organelles = {\n",
        "    \"Nucleus\": \"Stores genetic material (DNA) and controls cell activities.\",\n",
        "    \"Mitochondria\": \"Produces ATP through cellular respiration.\",\n",
        "    \"Ribosome\": \"Synthesizes proteins.\",\n",
        "    \"Golgi Apparatus\": \"Modifies, sorts, and packages proteins and lipids.\"\n",
        "}\n",
        "\n",
        "organelle = 'Lysosome'\n",
        "function = cell_organelles.get(organelle, 'unknown')\n",
        "\n",
        "print(f\"The function of {organelle} is {function}\")"
      ],
      "metadata": {
        "colab": {
          "base_uri": "https://localhost:8080/"
        },
        "id": "kGyygheV4Dpv",
        "outputId": "dc18584e-74bf-4bd1-fc6c-afcccdf06098"
      },
      "execution_count": 9,
      "outputs": [
        {
          "output_type": "stream",
          "name": "stdout",
          "text": [
            "The function of Lysosome is unknown\n"
          ]
        }
      ]
    },
    {
      "cell_type": "markdown",
      "source": [
        "##LOOPING THROUGH A DICTIONARY"
      ],
      "metadata": {
        "id": "N13tZ_g66E1z"
      }
    },
    {
      "cell_type": "markdown",
      "source": [
        "Looping Through All Key-Value Pairs"
      ],
      "metadata": {
        "id": "Bg6wGn-h6JH7"
      }
    },
    {
      "cell_type": "markdown",
      "source": [
        "- for loop is used to loop through each key-value pair in the dictionary.  \n",
        "  \n",
        "- items() method is used to get the key-value pair. A method is an action that python can perform on a piece of information. Additional information is passed to the method to do its job. A method is separated from the variable using dot.  \n",
        "  \n",
        "- Two variables are defined. The first takes the key while the second takes the corresponding value.  \n",
        "  "
      ],
      "metadata": {
        "id": "O6fXYNqa6OzK"
      }
    },
    {
      "cell_type": "code",
      "source": [
        "# Dictionary storing types of RNA and their functions\n",
        "rna_types = {\n",
        "    \"mRNA\": \"Carries genetic information from DNA to ribosomes for protein synthesis.\",\n",
        "    \"tRNA\": \"Transfers amino acids to ribosomes during protein synthesis.\",\n",
        "    \"rRNA\": \"Forms the core of ribosomes and catalyzes protein synthesis.\",\n",
        "    \"snRNA\": \"Involved in RNA splicing and regulation.\"\n",
        "}\n",
        "\n",
        "for rna_types, function in rna_types.items():\n",
        "   print(f\"\\n{rna_types}:{function}\")"
      ],
      "metadata": {
        "colab": {
          "base_uri": "https://localhost:8080/"
        },
        "id": "n9f8JnoM52yr",
        "outputId": "170e1b38-aa6e-4012-f7f9-89ed01553785"
      },
      "execution_count": 11,
      "outputs": [
        {
          "output_type": "stream",
          "name": "stdout",
          "text": [
            "\n",
            "mRNA:Carries genetic information from DNA to ribosomes for protein synthesis.\n",
            "\n",
            "tRNA:Transfers amino acids to ribosomes during protein synthesis.\n",
            "\n",
            "rRNA:Forms the core of ribosomes and catalyzes protein synthesis.\n",
            "\n",
            "snRNA:Involved in RNA splicing and regulation.\n"
          ]
        }
      ]
    },
    {
      "cell_type": "markdown",
      "source": [
        "Looping Through All the keys in a Dictionary"
      ],
      "metadata": {
        "id": "nNDkW3Uv76jW"
      }
    },
    {
      "cell_type": "markdown",
      "source": [
        "- keys() method can be used to get sequence of  the keys of the dictionary.  \n",
        "  \n",
        "- There is no need to explicitly mention keys() method unless for readability. By default, for loops through keys of the data structure dictionary.  \n"
      ],
      "metadata": {
        "id": "bx4QXg9t7-5V"
      }
    },
    {
      "cell_type": "code",
      "source": [
        "# Dictionary storing enzymes involved in DNA replication\n",
        "replication_enzymes = {\n",
        "    \"Helicase\": \"Unwinds the DNA double helix.\",\n",
        "    \"Primase\": \"Synthesizes RNA primers.\",\n",
        "    \"DNA Polymerase\": \"Synthesizes new DNA strands.\",\n",
        "    \"Ligase\": \"Seals gaps between Okazaki fragments.\"\n",
        "}\n",
        "\n",
        "\n",
        "print(\"Enzymes participating in replication\\n\")\n",
        "for enzyme in replication_enzymes.keys():\n",
        "   print(enzyme)"
      ],
      "metadata": {
        "colab": {
          "base_uri": "https://localhost:8080/"
        },
        "id": "EsrxUY0o7xwd",
        "outputId": "50b86af1-ddb1-4107-d31d-799cbd5804c0"
      },
      "execution_count": 12,
      "outputs": [
        {
          "output_type": "stream",
          "name": "stdout",
          "text": [
            "Enzymes participating in replication\n",
            "\n",
            "Helicase\n",
            "Primase\n",
            "DNA Polymerase\n",
            "Ligase\n"
          ]
        }
      ]
    },
    {
      "cell_type": "markdown",
      "source": [
        "Looping Through a Dictionary's Keys in a Particular Order.  "
      ],
      "metadata": {
        "id": "IXnlrni19EWc"
      }
    },
    {
      "cell_type": "markdown",
      "source": [
        "- sorted() function can be used to sort the keys in a alphabetical order.  \n",
        "  \n",
        "- Wrap the dictionary_name.keys() around the sorted() function.  \n",
        "  "
      ],
      "metadata": {
        "id": "Wd4xhwb59P_n"
      }
    },
    {
      "cell_type": "code",
      "source": [
        "# Dictionary storing enzymes involved in DNA replication\n",
        "replication_enzymes = {\n",
        "    \"Helicase\": \"Unwinds the DNA double helix.\",\n",
        "    \"Primase\": \"Synthesizes RNA primers.\",\n",
        "    \"DNA Polymerase\": \"Synthesizes new DNA strands.\",\n",
        "    \"Ligase\": \"Seals gaps between Okazaki fragments.\"\n",
        "}\n",
        "\n",
        "\n",
        "print(\"Enzymes participating in replication\\n\")\n",
        "for enzyme in sorted(replication_enzymes.keys()):\n",
        "   print(enzyme)"
      ],
      "metadata": {
        "colab": {
          "base_uri": "https://localhost:8080/"
        },
        "id": "8Zbb4GE69CU6",
        "outputId": "4c0e0a60-26e7-4bd2-f123-7622b5b2871c"
      },
      "execution_count": 13,
      "outputs": [
        {
          "output_type": "stream",
          "name": "stdout",
          "text": [
            "Enzymes participating in replication\n",
            "\n",
            "DNA Polymerase\n",
            "Helicase\n",
            "Ligase\n",
            "Primase\n"
          ]
        }
      ]
    },
    {
      "cell_type": "markdown",
      "source": [
        "Looping Through All Values in a Dictionary"
      ],
      "metadata": {
        "id": "dTLTP_K495mL"
      }
    },
    {
      "cell_type": "markdown",
      "source": [
        "- values() method is used to get a sequence of the values in a dictionary."
      ],
      "metadata": {
        "id": "OTr9leWh9-qe"
      }
    },
    {
      "cell_type": "code",
      "source": [
        "for function in replication_enzymes.values():\n",
        "   print(function)"
      ],
      "metadata": {
        "colab": {
          "base_uri": "https://localhost:8080/"
        },
        "id": "RDkInY0N93iw",
        "outputId": "fdc7f37e-1958-4586-a988-ad3771c3703e"
      },
      "execution_count": 14,
      "outputs": [
        {
          "output_type": "stream",
          "name": "stdout",
          "text": [
            "Unwinds the DNA double helix.\n",
            "Synthesizes RNA primers.\n",
            "Synthesizes new DNA strands.\n",
            "Seals gaps between Okazaki fragments.\n"
          ]
        }
      ]
    },
    {
      "cell_type": "markdown",
      "source": [
        "##SET"
      ],
      "metadata": {
        "id": "ZL6vPhvY-Zwr"
      }
    },
    {
      "cell_type": "markdown",
      "source": [
        "- set() function is used to create a set of unique values.  \n",
        "  \n",
        "- All the elements are separated by commas and enclosed within curly brackets.  \n",
        "  "
      ],
      "metadata": {
        "id": "5jRjVF70-cHr"
      }
    },
    {
      "cell_type": "code",
      "source": [
        "# Creating sets of unique nitrogenous bases\n",
        "dna_bases = {\"A\", \"T\", \"C\", \"G\"}\n",
        "rna_bases = {\"A\", \"U\", \"C\", \"G\"}\n",
        "\n",
        "\n",
        "print(f\"unique DNA Bases: {dna_bases}\")\n",
        "print(f\"uique RNA bases: {rna_bases}\")"
      ],
      "metadata": {
        "colab": {
          "base_uri": "https://localhost:8080/"
        },
        "id": "_pb7BOpk-Y58",
        "outputId": "eaa2d250-56a4-41ce-f671-c55d81703a44"
      },
      "execution_count": 15,
      "outputs": [
        {
          "output_type": "stream",
          "name": "stdout",
          "text": [
            "unique DNA Bases: {'G', 'T', 'C', 'A'}\n",
            "uique RNA bases: {'G', 'C', 'A', 'U'}\n"
          ]
        }
      ]
    },
    {
      "cell_type": "code",
      "source": [],
      "metadata": {
        "id": "qKfbLV0Z_pvG"
      },
      "execution_count": null,
      "outputs": []
    }
  ]
}