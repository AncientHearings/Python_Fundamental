{
  "nbformat": 4,
  "nbformat_minor": 0,
  "metadata": {
    "colab": {
      "provenance": [],
      "authorship_tag": "ABX9TyMawCsyP2l00OX+gDfjKkiR",
      "include_colab_link": true
    },
    "kernelspec": {
      "name": "python3",
      "display_name": "Python 3"
    },
    "language_info": {
      "name": "python"
    }
  },
  "cells": [
    {
      "cell_type": "markdown",
      "metadata": {
        "id": "view-in-github",
        "colab_type": "text"
      },
      "source": [
        "<a href=\"https://colab.research.google.com/github/AncientHearings/Python_Fundamental/blob/main/IFStatements.ipynb\" target=\"_parent\"><img src=\"https://colab.research.google.com/assets/colab-badge.svg\" alt=\"Open In Colab\"/></a>"
      ]
    },
    {
      "cell_type": "markdown",
      "source": [
        "####Conditional Tests"
      ],
      "metadata": {
        "id": "c6RJwujO0m32"
      }
    },
    {
      "cell_type": "markdown",
      "source": [
        "- if statement is follolwed by a conditional test. The conditional test is evaluated to True or False(Boolean Value). If the conditional test evaluates to True, then the indented statement followed by the if statememt will be executed.If the conditional test is evaluated to False, then the indented statement will be skipped.\n"
      ],
      "metadata": {
        "id": "CsRkqBk20r7u"
      }
    },
    {
      "cell_type": "markdown",
      "source": [
        "checking for Equality"
      ],
      "metadata": {
        "id": "NDpGYeTl1SQh"
      }
    },
    {
      "cell_type": "markdown",
      "source": [
        "Comparison(equality) operator \"==\" can be used to compare values. If the value of variable is the value of interest, then a boolean value(True) is returned otherwise False.\n"
      ],
      "metadata": {
        "id": "PeRpj9FF1VGE"
      }
    },
    {
      "cell_type": "code",
      "execution_count": null,
      "metadata": {
        "colab": {
          "base_uri": "https://localhost:8080/"
        },
        "id": "02-ZkBOf0hG7",
        "outputId": "5fa672dd-e228-44e7-b9cc-fc17b8d255c7"
      },
      "outputs": [
        {
          "output_type": "execute_result",
          "data": {
            "text/plain": [
              "True"
            ]
          },
          "metadata": {},
          "execution_count": 2
        }
      ],
      "source": [
        "Organelle = \"Mitochondria\"\n",
        "\n",
        "Organelle == \"Mitochondria\" # equality operator returns True if the value of the variable matches the value of interest."
      ]
    },
    {
      "cell_type": "markdown",
      "source": [
        "Ignoring Case When Checking for Equality"
      ],
      "metadata": {
        "id": "T3k30u0X2EdV"
      }
    },
    {
      "cell_type": "markdown",
      "source": [
        "Comparison is case-sensitive.When  'audi' and 'Audi', True isn't returned. The string is converted to lowercase using lower() method to make the comparison case-insensitive."
      ],
      "metadata": {
        "id": "1b2DyXaR2J2Q"
      }
    },
    {
      "cell_type": "code",
      "source": [
        "organelle = 'Mitochondria'\n",
        "\n",
        "organelle = 'mitochondria'\n",
        "\n",
        "organelle.lower() == 'mitochondria' #lower() method is used to convert the  uppercase letter into lowercase. The original value assigned to the variable isn't changed.\n"
      ],
      "metadata": {
        "colab": {
          "base_uri": "https://localhost:8080/"
        },
        "id": "hjauQopd14iw",
        "outputId": "14e9f390-f34e-464a-8027-b80de9659e3a"
      },
      "execution_count": null,
      "outputs": [
        {
          "output_type": "execute_result",
          "data": {
            "text/plain": [
              "True"
            ]
          },
          "metadata": {},
          "execution_count": 3
        }
      ]
    },
    {
      "cell_type": "markdown",
      "source": [
        "Checking for Inequality"
      ],
      "metadata": {
        "id": "RzlRwq6j3D_9"
      }
    },
    {
      "cell_type": "markdown",
      "source": [
        "- Inequality operator is used to check if the value of the variable doesn't match the value of interest. True is returned."
      ],
      "metadata": {
        "id": "xUHR4Xzd3G8Z"
      }
    },
    {
      "cell_type": "code",
      "source": [
        "organelle != 'Mitochondria'"
      ],
      "metadata": {
        "colab": {
          "base_uri": "https://localhost:8080/"
        },
        "id": "fDFkaoXp3CZr",
        "outputId": "58d7ede2-f7b7-45b0-c7a0-63272977dcf1"
      },
      "execution_count": null,
      "outputs": [
        {
          "output_type": "execute_result",
          "data": {
            "text/plain": [
              "True"
            ]
          },
          "metadata": {},
          "execution_count": 4
        }
      ]
    },
    {
      "cell_type": "markdown",
      "source": [
        "Numerical Comparisons"
      ],
      "metadata": {
        "id": "9O4ocz8p3tt2"
      }
    },
    {
      "cell_type": "markdown",
      "source": [
        "Numeric types can be tested for equalityand inequality.\n",
        "  \n",
        "Other comparison operators can be used in  conditional test as part of if statement."
      ],
      "metadata": {
        "id": "vkHeC_693xBs"
      }
    },
    {
      "cell_type": "code",
      "source": [
        "Membranes = 2\n",
        "\n",
        "Membranes == 2"
      ],
      "metadata": {
        "colab": {
          "base_uri": "https://localhost:8080/"
        },
        "id": "3p6o0GI83ptf",
        "outputId": "13e1cd2a-6caf-4c88-938b-37668c742665"
      },
      "execution_count": null,
      "outputs": [
        {
          "output_type": "execute_result",
          "data": {
            "text/plain": [
              "True"
            ]
          },
          "metadata": {},
          "execution_count": 5
        }
      ]
    },
    {
      "cell_type": "markdown",
      "source": [
        "Checking Multiple Conditions"
      ],
      "metadata": {
        "id": "lrZ-OlYl4nsW"
      }
    },
    {
      "cell_type": "markdown",
      "source": [
        "Logical operators can be used to combine conditional tests: and, or & not.  \n",
        "  \n"
      ],
      "metadata": {
        "id": "B_m_2I7m4sMl"
      }
    },
    {
      "cell_type": "markdown",
      "source": [
        "Using and to check for Multiple Conditions"
      ],
      "metadata": {
        "id": "kAaKGZA643HJ"
      }
    },
    {
      "cell_type": "markdown",
      "source": [
        "All the conditional tests must be evaluated to be True for the conditional expression to be evaluated as True.  \n",
        "  \n",
        "For enhanced readability, enclose the conditional test inside round brackets."
      ],
      "metadata": {
        "id": "7MEKh1GM4_jX"
      }
    },
    {
      "cell_type": "code",
      "source": [
        "ReadLength = 125\n",
        "AverageQualityScore =  35\n",
        "\n",
        "if (ReadLength == 125) and (AverageQualityScore == 35):\n",
        "  print(\"Read passes quality score\")\n",
        "else:\n",
        "  print(\"Read fails quality score\")"
      ],
      "metadata": {
        "colab": {
          "base_uri": "https://localhost:8080/"
        },
        "id": "PPkDNMTK4k5F",
        "outputId": "6daca3d7-fcd9-4ce4-8146-8c785cc54179"
      },
      "execution_count": null,
      "outputs": [
        {
          "output_type": "stream",
          "name": "stdout",
          "text": [
            "Read passes quality score\n"
          ]
        }
      ]
    },
    {
      "cell_type": "markdown",
      "source": [
        "Using or to Check Multiple Conditions"
      ],
      "metadata": {
        "id": "SRWrGd8m6c8W"
      }
    },
    {
      "cell_type": "markdown",
      "source": [
        "Atleast one of the conditional test must evaluate to True for the overall expression to evaluate to True.\n",
        "\n"
      ],
      "metadata": {
        "id": "9BvAwCU36hSv"
      }
    },
    {
      "cell_type": "code",
      "source": [
        "Expression_tp53 = 1200\n",
        "Expression_brac1 = 800\n",
        "\n",
        "if (Expression_tp53 == 1200 ) or (Expression_brac1 == 800):\n",
        "  print(\"Sample shows high expression of kety tumor supressor gene.\")\n",
        "else:\n",
        "  print(\"No high expression detected.\")\n"
      ],
      "metadata": {
        "colab": {
          "base_uri": "https://localhost:8080/"
        },
        "id": "MKcjV5na6a8t",
        "outputId": "cdf19758-3c4e-446f-d7a8-1f9331e7a76b"
      },
      "execution_count": null,
      "outputs": [
        {
          "output_type": "stream",
          "name": "stdout",
          "text": [
            "Sample shows high expression of kety tumor supressor gene.\n"
          ]
        }
      ]
    },
    {
      "cell_type": "markdown",
      "source": [
        "Checking Whether a Value Is in a LIst"
      ],
      "metadata": {
        "id": "6u_o9buK7dTx"
      }
    },
    {
      "cell_type": "markdown",
      "source": [
        "Membership operators is used to check for a specific value in a data structure(way of storing data).  \n",
        "  \n",
        "in is used to check if a specific value is in a data structure."
      ],
      "metadata": {
        "id": "EEmAT2vi7iCQ"
      }
    },
    {
      "cell_type": "code",
      "source": [
        "cell_cycle_genes = ['CDK1', 'CDK2', 'CCNB1', 'CDC20', 'MCM2']\n",
        "gene = 'CDK1'\n",
        "\n",
        "if gene in cell_cycle_genes:\n",
        "  print(f\"{gene} is a cell cycle gene.\")\n",
        "else:\n",
        "  print(f\"{gene} is not involved in cycle. \")"
      ],
      "metadata": {
        "colab": {
          "base_uri": "https://localhost:8080/"
        },
        "id": "rKa-hSS17bYE",
        "outputId": "8f204cde-f131-4f8f-bcef-510878047e8e"
      },
      "execution_count": null,
      "outputs": [
        {
          "output_type": "stream",
          "name": "stdout",
          "text": [
            "CDK1 is a cell cycle gene.\n"
          ]
        }
      ]
    },
    {
      "cell_type": "markdown",
      "source": [
        "Checking Whether a Value Is Not in a List"
      ],
      "metadata": {
        "id": "_nRpBFwp8Khs"
      }
    },
    {
      "cell_type": "markdown",
      "source": [
        "not in used to check if a particular value doesn't exit in a data structure."
      ],
      "metadata": {
        "id": "L5q7MEST8Pkt"
      }
    },
    {
      "cell_type": "code",
      "source": [
        "housekeeping_genes = ['ACTB', 'GAPDH', 'B2M', 'RPL13A']\n",
        "gene = 'MYC'\n",
        "\n",
        "if gene not in housekeeping_genes:\n",
        "  print(f\"{gene} is not a housekeeping gene.\")\n",
        "else:\n",
        "  print(f\"{gene} is a housekeeping gene.\")"
      ],
      "metadata": {
        "colab": {
          "base_uri": "https://localhost:8080/"
        },
        "id": "eoFQnq0S8GCB",
        "outputId": "a6606293-7a41-4728-d79a-7684839740aa"
      },
      "execution_count": null,
      "outputs": [
        {
          "output_type": "stream",
          "name": "stdout",
          "text": [
            "MYC is not a housekeeping gene.\n"
          ]
        }
      ]
    },
    {
      "cell_type": "markdown",
      "source": [
        "Boolean Expressions"
      ],
      "metadata": {
        "id": "CMumPtXc8ydI"
      }
    },
    {
      "cell_type": "markdown",
      "source": [
        "True or False is boolean value. Boolean value is used to track the state of a program."
      ],
      "metadata": {
        "id": "OkcqxzKT80Yg"
      }
    },
    {
      "cell_type": "markdown",
      "source": [
        "##if statements"
      ],
      "metadata": {
        "id": "luiJfM7J9a7l"
      }
    },
    {
      "cell_type": "markdown",
      "source": [
        "simple if statements"
      ],
      "metadata": {
        "id": "rBrn-IPo9hxz"
      }
    },
    {
      "cell_type": "markdown",
      "source": [
        "if conditional test:\n",
        "    do something\n",
        "\n"
      ],
      "metadata": {
        "id": "zIN4OR8s9j8o"
      }
    },
    {
      "cell_type": "markdown",
      "source": [
        "if the conditional test is evaluated to True, then the intended statement after the if the if statement will be executed and vice-versa."
      ],
      "metadata": {
        "id": "6hBP48Li95vY"
      }
    },
    {
      "cell_type": "markdown",
      "source": [
        "All the intended statements after the if statement will be executed if the conditional test evaluates to True and vice-versa."
      ],
      "metadata": {
        "id": "WKHuBJB4-Dhx"
      }
    },
    {
      "cell_type": "code",
      "source": [
        "housekeeping_genes = ['ACTB', 'GAPDH', 'B2M', 'RPL13A']\n",
        "gene = 'MYC'\n",
        "\n",
        "if gene not in housekeeping_genes:\n",
        "  print(f\"{gene} is not a housekeeping gene.\")\n",
        "else:\n",
        "  print(f\"{gene} is a housekeeping gene.\")"
      ],
      "metadata": {
        "colab": {
          "base_uri": "https://localhost:8080/"
        },
        "id": "qQXICua98w8s",
        "outputId": "77e3b89d-8f3b-4d01-a1f0-9df7b2878cd4"
      },
      "execution_count": null,
      "outputs": [
        {
          "output_type": "stream",
          "name": "stdout",
          "text": [
            "MYC is not a housekeeping gene.\n"
          ]
        }
      ]
    },
    {
      "cell_type": "markdown",
      "source": [
        "if-else statements"
      ],
      "metadata": {
        "id": "B7N1P0dG-dpk"
      }
    },
    {
      "cell_type": "markdown",
      "source": [
        "else statement is  used to execute an statement of interest if the conditional test followed by  the if statement  fails."
      ],
      "metadata": {
        "id": "6wsQpISC-f3D"
      }
    },
    {
      "cell_type": "code",
      "source": [
        "ReadLength = 125\n",
        "AverageQualityScore =  35\n",
        "\n",
        "if (ReadLength == 125) and (AverageQualityScore == 35):\n",
        "  print(\"Read passes quality score\")\n",
        "else:\n",
        "  print(\"Read fails quality score\")"
      ],
      "metadata": {
        "colab": {
          "base_uri": "https://localhost:8080/"
        },
        "id": "6mRBeUHb-cK1",
        "outputId": "8bfa84cd-e6a7-4fbf-d931-35099a6aa6ca"
      },
      "execution_count": null,
      "outputs": [
        {
          "output_type": "stream",
          "name": "stdout",
          "text": [
            "Read passes quality score\n"
          ]
        }
      ]
    },
    {
      "cell_type": "markdown",
      "source": [
        "if-elif-else chain"
      ],
      "metadata": {
        "id": "0F0pyzRwCLCc"
      }
    },
    {
      "cell_type": "markdown",
      "source": [
        "if the conditional test followed by if statement fails and  there is another conditional test of interest to be tested, then elif statement  \n",
        "can be used.  \n",
        "  \n",
        "Only one block of code is executed."
      ],
      "metadata": {
        "id": "l-IbkhcTCNy2"
      }
    },
    {
      "cell_type": "code",
      "source": [
        "il4_level = 120\n",
        "ifn_gamma_level = 30\n",
        "\n",
        "if il4_level > 120:\n",
        "  print(\"Likely TH2 type immune response. \")\n",
        "elif ifn_gamma_level > 30:\n",
        "  print(\"Likely TH1 type immune response.\")\n",
        "else:\n",
        "  print(\"Immune response type unclear or mixed.\")"
      ],
      "metadata": {
        "colab": {
          "base_uri": "https://localhost:8080/"
        },
        "id": "u5SD8OdYCH4B",
        "outputId": "f6b3447b-6788-4da8-8c6a-ad7ef15dde0e"
      },
      "execution_count": null,
      "outputs": [
        {
          "output_type": "stream",
          "name": "stdout",
          "text": [
            "Immune response type unclear or mixed.\n"
          ]
        }
      ]
    },
    {
      "cell_type": "markdown",
      "source": [
        "Using Multiple elif blocks"
      ],
      "metadata": {
        "id": "f475zWlFFs-C"
      }
    },
    {
      "cell_type": "markdown",
      "source": [
        "There is a lot of conditional tests to be tested. In this case, multiple elif statements can be used."
      ],
      "metadata": {
        "id": "uFTtIh-NGBEI"
      }
    },
    {
      "cell_type": "code",
      "source": [
        "variant_effect = \"missense_variant\"\n",
        "\n",
        "if variant_effect == \"stop_gained\":\n",
        "    print(\"High-impact variant: likely disrupts protein function.\")\n",
        "elif variant_effect == \"frameshift_variant\":\n",
        "    print(\"High-impact variant: may lead to completely altered protein.\")\n",
        "elif variant_effect == \"missense_variant\":\n",
        "    print(\"Moderate-impact variant: changes amino acid sequence.\")\n",
        "elif variant_effect == \"synonymous_variant\":\n",
        "    print(\"Low-impact variant: no change in amino acid.\")\n",
        "elif variant_effect == \"intron_variant\":\n",
        "    print(\"Likely benign: occurs in non-coding region.\")\n",
        "else:\n",
        "    print(\"Unclassified variant effect.\")\n"
      ],
      "metadata": {
        "colab": {
          "base_uri": "https://localhost:8080/"
        },
        "id": "ium5KrovFraL",
        "outputId": "6e7cf3dc-5734-47ba-ca7a-c7c5c05a714e"
      },
      "execution_count": null,
      "outputs": [
        {
          "output_type": "stream",
          "name": "stdout",
          "text": [
            "Moderate-impact variant: changes amino acid sequence.\n"
          ]
        }
      ]
    },
    {
      "cell_type": "markdown",
      "source": [
        "Omitting the else block"
      ],
      "metadata": {
        "id": "Ak2LV_0wGhPt"
      }
    },
    {
      "cell_type": "markdown",
      "source": [
        "The else statement is catchall statement. It matches any condition that wasn't matched by previous statements, and sometimes it can include malicious or invalid  data.  \n",
        "  \n",
        "If there is a specific condition of interest, then elif statement can be used."
      ],
      "metadata": {
        "id": "QaD0jhUUGkhA"
      }
    },
    {
      "cell_type": "code",
      "source": [
        "variant_effect = \"unknown_effect\"\n",
        "\n",
        "if variant_effect == \"stop_gained\":\n",
        "    print(\"High-impact variant: likely disrupts protein function.\")\n",
        "elif variant_effect == \"frameshift_variant\":\n",
        "    print(\"High-impact variant: may lead to completely altered protein.\")\n",
        "elif variant_effect == \"missense_variant\":\n",
        "    print(\"Moderate-impact variant: changes amino acid sequence.\")\n",
        "elif variant_effect == \"synonymous_variant\":\n",
        "    print(\"Low-impact variant: no change in amino acid.\")\n",
        "elif variant_effect == \"intron_variant\":\n",
        "    print(\"Likely benign: occurs in non-coding region.\")\n",
        "elif variant_effect == \"unknown_effect\":\n",
        "    print(\"Unknown effect type: requires further manual inspection.\")"
      ],
      "metadata": {
        "colab": {
          "base_uri": "https://localhost:8080/"
        },
        "id": "adZ50GWLGeb5",
        "outputId": "4da50f4e-50ba-425e-d54c-1a67b4816f2d"
      },
      "execution_count": null,
      "outputs": [
        {
          "output_type": "stream",
          "name": "stdout",
          "text": [
            "Unknown effect type: requires further manual inspection.\n"
          ]
        }
      ]
    },
    {
      "cell_type": "markdown",
      "source": [
        "Testing Multiple Conditions"
      ],
      "metadata": {
        "id": "n91DMlVBHu2A"
      }
    },
    {
      "cell_type": "markdown",
      "source": [
        "There are a lot of conditional tests. All the conditional tests are to be tested. Multiple ifs statements can be used."
      ],
      "metadata": {
        "id": "5yCFObEQIyCv"
      }
    },
    {
      "cell_type": "code",
      "source": [
        "dna_sequence = \"ATGCGTATAATGGAATTCCGATG\"\n",
        "\n",
        "if \"TATA\" in dna_sequence:\n",
        "    print(\"Promoter-like TATA box detected.\")\n",
        "\n",
        "if \"ATG\" in dna_sequence:\n",
        "    print(\"Start codon detected.\")\n",
        "\n",
        "if \"GAATTC\" in dna_sequence:\n",
        "    print(\"EcoRI restriction site detected.\")\n"
      ],
      "metadata": {
        "colab": {
          "base_uri": "https://localhost:8080/"
        },
        "id": "QxR4ttMbHtqu",
        "outputId": "bdc935b6-1725-4d58-8155-435d8541c6a7"
      },
      "execution_count": null,
      "outputs": [
        {
          "output_type": "stream",
          "name": "stdout",
          "text": [
            "Promoter-like TATA box detected.\n",
            "Start codon detected.\n",
            "EcoRI restriction site detected.\n"
          ]
        }
      ]
    },
    {
      "cell_type": "markdown",
      "source": [
        "Using if Statements with Lists"
      ],
      "metadata": {
        "id": "Qu1gVKKjeorG"
      }
    },
    {
      "cell_type": "markdown",
      "source": [
        "Checking for special Items"
      ],
      "metadata": {
        "id": "SwbVb_hfe77n"
      }
    },
    {
      "cell_type": "markdown",
      "source": [
        "Membership operator is used to check for an element in a data structure. Data structure is a way of storing data.  \n",
        "Membership operator include in and not in.  \n",
        "  \n",
        "in is used to check if an element is present in a data structure.  \n",
        "  \n",
        "not in is used to check if an element isn't present in a data structure."
      ],
      "metadata": {
        "id": "CJGD07PFfEgO"
      }
    },
    {
      "cell_type": "code",
      "source": [
        "annotated_genes = [\"BRCA1\", \"EGFR\", \"TP53\", \"MYC\", \"KRAS\"]\n",
        "\n",
        "gene_of_interest = \"TP53\"\n",
        "\n",
        "if gene_of_interest in annotated_genes:\n",
        "  print(f\"{gene_of_interest} is present in the gene list.\")\n",
        "else:\n",
        "  print(f\"{gene_of_interest} isn't present in the gene list.\")"
      ],
      "metadata": {
        "id": "LF3KEQaIJQRK",
        "colab": {
          "base_uri": "https://localhost:8080/"
        },
        "outputId": "74129718-eea6-4df7-e777-3d9cae46e7c5"
      },
      "execution_count": 1,
      "outputs": [
        {
          "output_type": "stream",
          "name": "stdout",
          "text": [
            "TP53 is present in the gene list.\n"
          ]
        }
      ]
    },
    {
      "cell_type": "markdown",
      "source": [
        "Checking that a List Is Not Empty"
      ],
      "metadata": {
        "id": "y8zhHuxuglIQ"
      }
    },
    {
      "cell_type": "code",
      "source": [
        "annotated_genes = []\n",
        "\n",
        "gene_of_interest = \"TP53\"\n",
        "\n",
        "if gene_of_interest in annotated_genes:\n",
        "  print(f\"{gene_of_interest} is present in the gene list.\")\n",
        "elif annotated_genes == []:\n",
        "  print(\"The list is empty.\")"
      ],
      "metadata": {
        "colab": {
          "base_uri": "https://localhost:8080/"
        },
        "id": "O0iV1dbPgjPO",
        "outputId": "ca57124b-a3bc-4994-fe2f-e12c098fd33d"
      },
      "execution_count": 2,
      "outputs": [
        {
          "output_type": "stream",
          "name": "stdout",
          "text": [
            "The list is empty.\n"
          ]
        }
      ]
    },
    {
      "cell_type": "markdown",
      "source": [
        "Using Multiple Lists"
      ],
      "metadata": {
        "id": "7tfRb1mohfin"
      }
    },
    {
      "cell_type": "code",
      "source": [
        "patient1_mutations = [\"rs121913527\", \"rs1801133\"]\n",
        "patient2_mutations = [\"rs1801133\", \"rs28934576\"]\n",
        "\n",
        "Unique_Mutations = list(set(patient1_mutations + patient2_mutations))\n",
        "\n",
        "print(f\"Unique Mutations:\\n {Unique_Mutations}\")"
      ],
      "metadata": {
        "colab": {
          "base_uri": "https://localhost:8080/"
        },
        "id": "eWyyTmkChZb2",
        "outputId": "d35b06a2-b293-4921-8597-2052942b5b32"
      },
      "execution_count": 4,
      "outputs": [
        {
          "output_type": "stream",
          "name": "stdout",
          "text": [
            "Unique Mutations:\n",
            " ['rs28934576', 'rs1801133', 'rs121913527']\n"
          ]
        }
      ]
    },
    {
      "cell_type": "markdown",
      "source": [
        "Styling If Statements"
      ],
      "metadata": {
        "id": "oCiUrm-BjAUo"
      }
    },
    {
      "cell_type": "markdown",
      "source": [
        "Put the conditional test inside round parenthesis for enhanced readability.\n",
        "\n",
        "Provide space around the comparison operators.\n",
        "  \n",
        "Styling has no effect on the execution.\n",
        "\n",
        "> Add blockquote\n",
        "\n"
      ],
      "metadata": {
        "id": "Ul1joxOrjEbj"
      }
    },
    {
      "cell_type": "code",
      "source": [
        "il4_level = 120\n",
        "ifn_gamma_level = 30\n",
        "\n",
        "if (il4_level > 120): #Spacing is provided around comparison operator. The conditional test is put inside round brackets. Spacing has no effect on th execution by the interpretor.\n",
        "  print(\"Likely TH2 type immune response. \")\n",
        "elif (ifn_gamma_level > 30):\n",
        "  print(\"Likely TH1 type immune response.\")\n",
        "else:\n",
        "  print(\"Immune response type unclear or mixed.\")"
      ],
      "metadata": {
        "colab": {
          "base_uri": "https://localhost:8080/"
        },
        "id": "KxfZYxFPi7iT",
        "outputId": "bdc7a3d4-24a8-499c-f525-ba1e3c3810c2"
      },
      "execution_count": 5,
      "outputs": [
        {
          "output_type": "stream",
          "name": "stdout",
          "text": [
            "Immune response type unclear or mixed.\n"
          ]
        }
      ]
    },
    {
      "cell_type": "code",
      "source": [],
      "metadata": {
        "id": "MKWYNvVekflZ"
      },
      "execution_count": null,
      "outputs": []
    }
  ]
}