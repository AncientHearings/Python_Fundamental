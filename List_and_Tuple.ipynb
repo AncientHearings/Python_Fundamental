{
  "nbformat": 4,
  "nbformat_minor": 0,
  "metadata": {
    "colab": {
      "provenance": [],
      "authorship_tag": "ABX9TyMu4GA1FlTqciOkGKmR/uaL",
      "include_colab_link": true
    },
    "kernelspec": {
      "name": "python3",
      "display_name": "Python 3"
    },
    "language_info": {
      "name": "python"
    }
  },
  "cells": [
    {
      "cell_type": "markdown",
      "metadata": {
        "id": "view-in-github",
        "colab_type": "text"
      },
      "source": [
        "<a href=\"https://colab.research.google.com/github/AncientHearings/Python_Fundamental/blob/main/List_and_Tuple.ipynb\" target=\"_parent\"><img src=\"https://colab.research.google.com/assets/colab-badge.svg\" alt=\"Open In Colab\"/></a>"
      ]
    },
    {
      "cell_type": "markdown",
      "source": [
        "Working with Lists"
      ],
      "metadata": {
        "id": "svgoNhaVvFGn"
      }
    },
    {
      "cell_type": "code",
      "execution_count": null,
      "metadata": {
        "id": "_BHYUUrJvANK"
      },
      "outputs": [],
      "source": [
        "#For loop and while loop"
      ]
    },
    {
      "cell_type": "code",
      "source": [
        "#Example1:\n",
        "dna_sequences = [\n",
        "    \"ATGCGATAGCTAG\",\n",
        "    \"GTACGTACGTA\",\n",
        "    \"TTAAAGCCCGGG\",\n",
        "    \"ATATATATAT\",\n",
        "    \"CGGCGGCGG\"\n",
        "]\n",
        "\n",
        "for dna_sequence in dna_sequences:\n",
        "  print(f\"\\n{dna_sequence}\")\n",
        "\n",
        "#From the list, an element is picked and assigned  to the variable dna_sequence defined in the for loop.\n",
        "#The element is placed into the placholder inside the format string enclosed by the print() function inside the for loop.\n",
        "#This is repeated till there is no element left in the list."
      ],
      "metadata": {
        "colab": {
          "base_uri": "https://localhost:8080/"
        },
        "id": "onSplqxqvMv4",
        "outputId": "5603b4f5-6d50-49ee-e397-73bc3358413a"
      },
      "execution_count": null,
      "outputs": [
        {
          "output_type": "stream",
          "name": "stdout",
          "text": [
            "\n",
            "ATGCGATAGCTAG\n",
            "\n",
            "GTACGTACGTA\n",
            "\n",
            "TTAAAGCCCGGG\n",
            "\n",
            "ATATATATAT\n",
            "\n",
            "CGGCGGCGG\n"
          ]
        }
      ]
    },
    {
      "cell_type": "code",
      "source": [
        "#Composing message/messages for each element in the data structure. Data structure is a way of storing data.\n",
        "#Example1:\n",
        "dna_sequences = [\n",
        "    \"ATGCGATAGCTAG\",\n",
        "    \"GTACGTACGTA\",\n",
        "    \"TTAAAGCCCGGG\",\n",
        "    \"ATATATATAT\",\n",
        "    \"CGGCGGCGG\"\n",
        "]\n",
        "indexes = [1, 2, 3, 4, 5]\n",
        "#Composing message/messages for each element in the data structure. Data structure is a way of storing data.\n",
        "#Example1:\n",
        "dna_sequences = [\n",
        "    \"ATGCGATAGCTAG\",\n",
        "    \"GTACGTACGTA\",\n",
        "    \"TTAAAGCCCGGG\",\n",
        "    \"ATATATATAT\",\n",
        "    \"CGGCGGCGG\"\n",
        "]\n",
        "indexes = [1, 2, 3, 4, 5]\n",
        "orders = [\"first\", \"second\", \"third\", \"fourth\", \"fifth\"]\n",
        "for dna_sequence in dna_sequences:\n",
        "  GC_total = dna_sequence.count('G') + dna_sequence.count('C')\n",
        "\n",
        "\n",
        "for dna_sequence, index, order  in zip(dna_sequences, indexes, orders):#zip() function is used to unpack many data structures at once.\n",
        "    print(f\"\\n{index}. The {order} dna sequence is {dna_sequence}\")# \\n is used to insert a new line in a string.\n",
        "    print(f\"\\tThe length is {len(dna_sequence)}\")\n",
        "    print(f\"\\tThe GC contnet is {GC_total / len(dna_sequence)}\")\n",
        "\n",
        "#The statement inside the for loop is executed for each elements in the three list at once.\n",
        "#The statement or group of statements which are indented are inside the loop"
      ],
      "metadata": {
        "colab": {
          "base_uri": "https://localhost:8080/"
        },
        "id": "iL7W6N04vo-I",
        "outputId": "2799cc31-bc6a-4528-ddb8-9f925fd28503"
      },
      "execution_count": null,
      "outputs": [
        {
          "output_type": "stream",
          "name": "stdout",
          "text": [
            "\n",
            "1. The first dna sequence is ATGCGATAGCTAG\n",
            "\tThe length is 13\n",
            "\tThe GC contnet is 0.6923076923076923\n",
            "\n",
            "2. The second dna sequence is GTACGTACGTA\n",
            "\tThe length is 11\n",
            "\tThe GC contnet is 0.8181818181818182\n",
            "\n",
            "3. The third dna sequence is TTAAAGCCCGGG\n",
            "\tThe length is 12\n",
            "\tThe GC contnet is 0.75\n",
            "\n",
            "4. The fourth dna sequence is ATATATATAT\n",
            "\tThe length is 10\n",
            "\tThe GC contnet is 0.9\n",
            "\n",
            "5. The fifth dna sequence is CGGCGGCGG\n",
            "\tThe length is 9\n",
            "\tThe GC contnet is 1.0\n"
          ]
        }
      ]
    },
    {
      "cell_type": "code",
      "source": [
        "#The unindented statement is executed only once.\n",
        "#This can be used to summarize the task/tasks done by for loop.\n",
        "#This is repeated only once.\n",
        "\n",
        "#Example2:\n",
        "dna_sequences = [\n",
        "    \"ATGCGATAGCTAG\",\n",
        "    \"GTACGTACGTA\",\n",
        "    \"TTAAAGCCCGGG\",\n",
        "    \"ATATATATAT\",\n",
        "    \"CGGCGGCGG\"\n",
        "]\n",
        "indexes = [1, 2, 3, 4, 5]\n",
        "#Composing message/messages for each element in the data structure. Data structure is a way of storing data.\n",
        "#Example1:\n",
        "dna_sequences = [\n",
        "    \"ATGCGATAGCTAG\",\n",
        "    \"GTACGTACGTA\",\n",
        "    \"TTAAAGCCCGGG\",\n",
        "    \"ATATATATAT\",\n",
        "    \"CGGCGGCGG\"\n",
        "]\n",
        "indexes = [1, 2, 3, 4, 5]\n",
        "orders = [\"first\", \"second\", \"third\", \"fourth\", \"fifth\"]\n",
        "for dna_sequence in dna_sequences:\n",
        "  GC_total = dna_sequence.count('G') + dna_sequence.count('C')\n",
        "\n",
        "\n",
        "for dna_sequence, index, order  in zip(dna_sequences, indexes, orders):#zip() function is used to unpack many data structures at once.\n",
        "    print(f\"\\n{index}. The {order} dna sequence is {dna_sequence}\")# \\n is used to insert a new line in a string.\n",
        "    print(f\"\\tThe length is {len(dna_sequence)}\")\n",
        "    print(f\"\\tThe GC contnet is {GC_total / len(dna_sequence)}\")\n",
        "print(\"\\nThe tasks to find the sequence length and the  GC contnet is accomplished.\")#Outside the for loop by unindenting the statement."
      ],
      "metadata": {
        "colab": {
          "base_uri": "https://localhost:8080/"
        },
        "id": "49BaOXaxxfBy",
        "outputId": "3259dfac-d9b2-4399-aafc-1c3dcae64516"
      },
      "execution_count": null,
      "outputs": [
        {
          "output_type": "stream",
          "name": "stdout",
          "text": [
            "\n",
            "1. The first dna sequence is ATGCGATAGCTAG\n",
            "\tThe length is 13\n",
            "\tThe GC contnet is 0.6923076923076923\n",
            "\n",
            "2. The second dna sequence is GTACGTACGTA\n",
            "\tThe length is 11\n",
            "\tThe GC contnet is 0.8181818181818182\n",
            "\n",
            "3. The third dna sequence is TTAAAGCCCGGG\n",
            "\tThe length is 12\n",
            "\tThe GC contnet is 0.75\n",
            "\n",
            "4. The fourth dna sequence is ATATATATAT\n",
            "\tThe length is 10\n",
            "\tThe GC contnet is 0.9\n",
            "\n",
            "5. The fifth dna sequence is CGGCGGCGG\n",
            "\tThe length is 9\n",
            "\tThe GC contnet is 1.0\n",
            "\n",
            "The tasks to find the sequence length and the  GC contnet is accomplished.\n"
          ]
        }
      ]
    },
    {
      "cell_type": "markdown",
      "source": [
        "AVOIDING INDENTATION ERRORS"
      ],
      "metadata": {
        "id": "GOTI-rVe3mOG"
      }
    },
    {
      "cell_type": "code",
      "source": [
        "#Forgetting to indent\n",
        "#Interpretor will mention indentation error in the traceback.\n",
        "#Example1:\n",
        "dna_sequences = [\n",
        "    \"ATGCGATAGCTAG\",\n",
        "    \"GTACGTACGTA\",\n",
        "    \"TTAAAGCCCGGG\",\n",
        "    \"ATATATATAT\",\n",
        "    \"CGGCGGCGG\"\n",
        "]\n",
        "\n",
        "for dna_sequence in dna_sequences:\n",
        "print(f\"\\n{dna_sequence}\")#The statement inside the for loop is not intended.\n"
      ],
      "metadata": {
        "colab": {
          "base_uri": "https://localhost:8080/",
          "height": 124
        },
        "id": "k8O5HvKk3B4Y",
        "outputId": "c0dee240-724c-424a-c112-d9d00f99d28e"
      },
      "execution_count": null,
      "outputs": [
        {
          "output_type": "error",
          "ename": "IndentationError",
          "evalue": "expected an indented block after 'for' statement on line 12 (<ipython-input-26-19bcba2e4c10>, line 13)",
          "traceback": [
            "\u001b[0;36m  File \u001b[0;32m\"<ipython-input-26-19bcba2e4c10>\"\u001b[0;36m, line \u001b[0;32m13\u001b[0m\n\u001b[0;31m    print(f\"\\n{dna_sequence}\")\u001b[0m\n\u001b[0m    ^\u001b[0m\n\u001b[0;31mIndentationError\u001b[0m\u001b[0;31m:\u001b[0m expected an indented block after 'for' statement on line 12\n"
          ]
        }
      ]
    },
    {
      "cell_type": "code",
      "source": [
        "#Forgetting to indent additional lines\n",
        "#The statement/statements will be executed once for each element which is unnecessary.\n",
        "\n",
        "#Example1:\n",
        "dna_sequences = [\n",
        "    \"ATGCGATAGCTAG\",\n",
        "    \"GTACGTACGTA\",\n",
        "    \"TTAAAGCCCGGG\",\n",
        "    \"ATATATATAT\",\n",
        "    \"CGGCGGCGG\"\n",
        "]\n",
        "indexes = [1, 2, 3, 4, 5]\n",
        "#Composing message/messages for each element in the data structure. Data structure is a way of storing data.\n",
        "#Example1:\n",
        "dna_sequences = [\n",
        "    \"ATGCGATAGCTAG\",\n",
        "    \"GTACGTACGTA\",\n",
        "    \"TTAAAGCCCGGG\",\n",
        "    \"ATATATATAT\",\n",
        "    \"CGGCGGCGG\"\n",
        "]\n",
        "indexes = [1, 2, 3, 4, 5]\n",
        "orders = [\"first\", \"second\", \"third\", \"fourth\", \"fifth\"]\n",
        "for dna_sequence in dna_sequences:\n",
        "  GC_total = dna_sequence.count('G') + dna_sequence.count('C')\n",
        "\n",
        "\n",
        "for dna_sequence, index, order  in zip(dna_sequences, indexes, orders):#zip() function is used to unpack many data structures at once.\n",
        "    print(f\"\\n{index}. The {order} dna sequence is {dna_sequence}\")# \\n is used to insert a new line in a string.\n",
        "    print(f\"\\tThe length is {len(dna_sequence)}\")\n",
        "print(f\"\\tThe GC contnet is {GC_total / len(dna_sequence)}\")\n",
        "print(\"\\nThe tasks to find the sequence length and the  GC contnet is accomplished.\")\n",
        "\n",
        "#The second statement in the code block is unindented. It will be executed only once.\n",
        "#The interpretor willn't provide traceback error because this is case of logical error where the code is a valid python code but doesn't provide the desired result."
      ],
      "metadata": {
        "colab": {
          "base_uri": "https://localhost:8080/"
        },
        "id": "yg_eUBCj4chN",
        "outputId": "b763090c-e7f9-477f-a5b1-fcaba31e1c14"
      },
      "execution_count": null,
      "outputs": [
        {
          "output_type": "stream",
          "name": "stdout",
          "text": [
            "\n",
            "1. The first dna sequence is ATGCGATAGCTAG\n",
            "\tThe length is 13\n",
            "\n",
            "2. The second dna sequence is GTACGTACGTA\n",
            "\tThe length is 11\n",
            "\n",
            "3. The third dna sequence is TTAAAGCCCGGG\n",
            "\tThe length is 12\n",
            "\n",
            "4. The fourth dna sequence is ATATATATAT\n",
            "\tThe length is 10\n",
            "\n",
            "5. The fifth dna sequence is CGGCGGCGG\n",
            "\tThe length is 9\n",
            "\tThe GC contnet is 1.0\n",
            "\n",
            "The tasks to find the sequence length and the  GC contnet is accomplished.\n"
          ]
        }
      ]
    },
    {
      "cell_type": "code",
      "source": [
        "#Indention unnecessarily\n",
        "#In this case, interpretor will provide tracebaxck error.\n",
        "#Intend only when necessary.\n",
        "\n",
        "# Example1:\n",
        "dna_sequences = [\n",
        "    \"ATGCGATAGCTAG\",\n",
        "    \"GTACGTACGTA\",\n",
        "    \"TTAAAGCCCGGG\",\n",
        "    \"ATATATATAT\",\n",
        "    \"CGGCGGCGG\"\n",
        "]\n",
        " print(dna_sequences)#Indented unnecessarily."
      ],
      "metadata": {
        "colab": {
          "base_uri": "https://localhost:8080/",
          "height": 106
        },
        "id": "lAiC0l356RIs",
        "outputId": "0943f0a6-9c6d-4cec-f1fc-f8d569e7a3ec"
      },
      "execution_count": null,
      "outputs": [
        {
          "output_type": "error",
          "ename": "IndentationError",
          "evalue": "unexpected indent (<ipython-input-29-93825ce27fd4>, line 11)",
          "traceback": [
            "\u001b[0;36m  File \u001b[0;32m\"<ipython-input-29-93825ce27fd4>\"\u001b[0;36m, line \u001b[0;32m11\u001b[0m\n\u001b[0;31m    print(dna_sequences)\u001b[0m\n\u001b[0m    ^\u001b[0m\n\u001b[0;31mIndentationError\u001b[0m\u001b[0;31m:\u001b[0m unexpected indent\n"
          ]
        }
      ]
    },
    {
      "cell_type": "code",
      "source": [
        "#Indenting Unnecessarily after the loop\n",
        "#The statement will be executed once for each element in the list.\n",
        "\n",
        "#Example:\n",
        "#Example2:\n",
        "dna_sequences = [\n",
        "    \"ATGCGATAGCTAG\",\n",
        "    \"GTACGTACGTA\",\n",
        "    \"TTAAAGCCCGGG\",\n",
        "    \"ATATATATAT\",\n",
        "    \"CGGCGGCGG\"\n",
        "]\n",
        "indexes = [1, 2, 3, 4, 5]\n",
        "#Composing message/messages for each element in the data structure. Data structure is a way of storing data.\n",
        "#Example1:\n",
        "dna_sequences = [\n",
        "    \"ATGCGATAGCTAG\",\n",
        "    \"GTACGTACGTA\",\n",
        "    \"TTAAAGCCCGGG\",\n",
        "    \"ATATATATAT\",\n",
        "    \"CGGCGGCGG\"\n",
        "]\n",
        "indexes = [1, 2, 3, 4, 5]\n",
        "orders = [\"first\", \"second\", \"third\", \"fourth\", \"fifth\"]\n",
        "for dna_sequence in dna_sequences:\n",
        "  GC_total = dna_sequence.count('G') + dna_sequence.count('C')\n",
        "\n",
        "\n",
        "for dna_sequence, index, order  in zip(dna_sequences, indexes, orders):#zip() function is used to unpack many data structures at once.\n",
        "    print(f\"\\n{index}. The {order} dna sequence is {dna_sequence}\")# \\n is used to insert a new line in a string.\n",
        "    print(f\"\\tThe length is {len(dna_sequence)}\")\n",
        "    print(f\"\\tThe GC contnet is {GC_total / len(dna_sequence)}\")\n",
        "    print(\"\\nThe tasks to find the sequence length and the  GC contnet is accomplished.\")#Unintended unnecessarily\n",
        "\n",
        "#The last statement will be executed once for each element in the list which is not requred.\n",
        "#This is also the case of logical error."
      ],
      "metadata": {
        "colab": {
          "base_uri": "https://localhost:8080/"
        },
        "id": "bErZ2oeKAb17",
        "outputId": "4aef8e74-b8cf-4ccf-c7c5-f3b93913add5"
      },
      "execution_count": null,
      "outputs": [
        {
          "output_type": "stream",
          "name": "stdout",
          "text": [
            "\n",
            "1. The first dna sequence is ATGCGATAGCTAG\n",
            "\tThe length is 13\n",
            "\tThe GC contnet is 0.6923076923076923\n",
            "\n",
            "The tasks to find the sequence length and the  GC contnet is accomplished.\n",
            "\n",
            "2. The second dna sequence is GTACGTACGTA\n",
            "\tThe length is 11\n",
            "\tThe GC contnet is 0.8181818181818182\n",
            "\n",
            "The tasks to find the sequence length and the  GC contnet is accomplished.\n",
            "\n",
            "3. The third dna sequence is TTAAAGCCCGGG\n",
            "\tThe length is 12\n",
            "\tThe GC contnet is 0.75\n",
            "\n",
            "The tasks to find the sequence length and the  GC contnet is accomplished.\n",
            "\n",
            "4. The fourth dna sequence is ATATATATAT\n",
            "\tThe length is 10\n",
            "\tThe GC contnet is 0.9\n",
            "\n",
            "The tasks to find the sequence length and the  GC contnet is accomplished.\n",
            "\n",
            "5. The fifth dna sequence is CGGCGGCGG\n",
            "\tThe length is 9\n",
            "\tThe GC contnet is 1.0\n",
            "\n",
            "The tasks to find the sequence length and the  GC contnet is accomplished.\n"
          ]
        }
      ]
    },
    {
      "cell_type": "code",
      "source": [
        "#Forgetting the Colon\n",
        "#This is put after the end of the for statement.\n",
        "#This tells the interpretor to interpret the next intended statement as the start of a loop.\n",
        "#Example2:\n",
        "dna_sequences = [\n",
        "    \"ATGCGATAGCTAG\",\n",
        "    \"GTACGTACGTA\",\n",
        "    \"TTAAAGCCCGGG\",\n",
        "    \"ATATATATAT\",\n",
        "    \"CGGCGGCGG\"\n",
        "]\n",
        "indexes = [1, 2, 3, 4, 5]\n",
        "#Composing message/messages for each element in the data structure. Data structure is a way of storing data.\n",
        "#Example1:\n",
        "dna_sequences = [\n",
        "    \"ATGCGATAGCTAG\",\n",
        "    \"GTACGTACGTA\",\n",
        "    \"TTAAAGCCCGGG\",\n",
        "    \"ATATATATAT\",\n",
        "    \"CGGCGGCGG\"\n",
        "]\n",
        "indexes = [1, 2, 3, 4, 5]\n",
        "orders = [\"first\", \"second\", \"third\", \"fourth\", \"fifth\"]\n",
        "for dna_sequence in dna_sequences #colon is forgotten.\n",
        "  GC_total = dna_sequence.count('G') + dna_sequence.count('C')\n",
        "\n",
        "\n",
        "for dna_sequence, index, order  in zip(dna_sequences, indexes, orders):#zip() function is used to unpack many data structures at once.\n",
        "    print(f\"\\n{index}. The {order} dna sequence is {dna_sequence}\")# \\n is used to insert a new line in a string.\n",
        "    print(f\"\\tThe length is {len(dna_sequence)}\")\n",
        "print(f\"\\tThe GC contnet is {GC_total / len(dna_sequence)}\")\n",
        "print(\"\\nThe tasks to find the sequence length and the  GC contnet is accomplished.\")\n",
        "\n",
        "#Interpretor will provide syntax error which means that the section of the program is not a valid python code."
      ],
      "metadata": {
        "colab": {
          "base_uri": "https://localhost:8080/",
          "height": 106
        },
        "id": "pMByBf9vA69w",
        "outputId": "decf514a-1af6-43a1-d1f6-a945825cf732"
      },
      "execution_count": null,
      "outputs": [
        {
          "output_type": "error",
          "ename": "SyntaxError",
          "evalue": "expected ':' (<ipython-input-34-6a740e18e89a>, line 24)",
          "traceback": [
            "\u001b[0;36m  File \u001b[0;32m\"<ipython-input-34-6a740e18e89a>\"\u001b[0;36m, line \u001b[0;32m24\u001b[0m\n\u001b[0;31m    for dna_sequence in dna_sequences #colon is forgotten.\u001b[0m\n\u001b[0m                                      ^\u001b[0m\n\u001b[0;31mSyntaxError\u001b[0m\u001b[0;31m:\u001b[0m expected ':'\n"
          ]
        }
      ]
    },
    {
      "cell_type": "code",
      "source": [
        "#Numerical lists\n",
        "#Lists are ideal for storing numbers.\n",
        "#range() function. A start and an end value is  passed as arguments to the function. A series of numbers will be generated.\n",
        "#The end value will not be included.\n",
        "\n",
        "for nucleotide_positions in range(1, 7):\n",
        "  print(nucleotide_positions)\n",
        "\n",
        "#If the start value isn't provided, then start5 value will be 0 by defqault.\n",
        "#If the end value isn't mentioned, then the end value will be the last by default"
      ],
      "metadata": {
        "id": "BPkMnO48DW7v",
        "colab": {
          "base_uri": "https://localhost:8080/"
        },
        "outputId": "8ca2eb36-fe03-4f23-e043-7939e0b9a952"
      },
      "execution_count": null,
      "outputs": [
        {
          "output_type": "stream",
          "name": "stdout",
          "text": [
            "1\n",
            "2\n",
            "3\n",
            "4\n",
            "5\n",
            "6\n"
          ]
        }
      ]
    },
    {
      "cell_type": "code",
      "source": [
        "#Making a list from range() function.\n",
        "  #To specify a type on to a variable, it is known as python casting.Constructor functions are used for casting.\n",
        "\n",
        "#Example1:\n",
        "nucleotide_positions = list(range(1, 100))\n",
        "print(f\"Nucleotide Positions: {nucleotide_positions}\")"
      ],
      "metadata": {
        "colab": {
          "base_uri": "https://localhost:8080/"
        },
        "id": "YKUMArZoOFX-",
        "outputId": "3b5cade5-521e-4595-f089-7a54ac958966"
      },
      "execution_count": null,
      "outputs": [
        {
          "output_type": "stream",
          "name": "stdout",
          "text": [
            "Nucleotide Positions: [1, 2, 3, 4, 5, 6, 7, 8, 9, 10, 11, 12, 13, 14, 15, 16, 17, 18, 19, 20, 21, 22, 23, 24, 25, 26, 27, 28, 29, 30, 31, 32, 33, 34, 35, 36, 37, 38, 39, 40, 41, 42, 43, 44, 45, 46, 47, 48, 49, 50, 51, 52, 53, 54, 55, 56, 57, 58, 59, 60, 61, 62, 63, 64, 65, 66, 67, 68, 69, 70, 71, 72, 73, 74, 75, 76, 77, 78, 79, 80, 81, 82, 83, 84, 85, 86, 87, 88, 89, 90, 91, 92, 93, 94, 95, 96, 97, 98, 99]\n"
          ]
        }
      ]
    },
    {
      "cell_type": "code",
      "source": [
        "#Statistics:\n",
        "'''\n",
        "max()\n",
        "min()\n",
        "sum()\n",
        "'''\n",
        "\n",
        "#Example1:Nucleotide Coverage Statistcis\n",
        "coverage_values = [12, 45, 78, 34, 23, 89, 56, 31, 67, 100] # Spacing is provided around operators for enhanced readability.\n",
        "\n",
        "max_coverage = max(coverage_values) #Minimum coverage\n",
        "min_coverage = min(coverage_values) #Maximum coverage\n",
        "total_coverage = sum(coverage_values) #Total coverage\n",
        "\n",
        "print(f\"\\n Nucleotide Coverage Statistics: \")\n",
        "print(f\"\\tThe maximum coverage is {max_coverage}.\")\n",
        "print(f\"\\tThe minimum coverage is {min_coverage}.\")\n",
        "print(f\"\\tThe total coverage is {total_coverage}.\")\n",
        "\n"
      ],
      "metadata": {
        "colab": {
          "base_uri": "https://localhost:8080/"
        },
        "id": "sO_M1PdoUbkO",
        "outputId": "73c8b2e1-a80b-4774-edfa-9101599bb029"
      },
      "execution_count": null,
      "outputs": [
        {
          "output_type": "stream",
          "name": "stdout",
          "text": [
            "\n",
            " Nucleotide Coverage Statistics: \n",
            "\tThe maximum coverage is 100.\n",
            "\tThe minimum coverage is 12.\n",
            "\tThe total coverage is 535.\n"
          ]
        }
      ]
    },
    {
      "cell_type": "code",
      "source": [
        "#Apart from the start and the end value, a third argument is passed between the two which is the step-zise.\n",
        "#Example1:\n",
        "for nucleotide_positions in  range(1, 2, 100):\n",
        " print(f\"Nucleotide Positions: {nucleotide_positions}\")"
      ],
      "metadata": {
        "colab": {
          "base_uri": "https://localhost:8080/"
        },
        "id": "IqTvFlcyQSwc",
        "outputId": "09573ce1-ef68-420e-ce6a-0dbf38aa305f"
      },
      "execution_count": null,
      "outputs": [
        {
          "output_type": "stream",
          "name": "stdout",
          "text": [
            "Nucleotide Positions: 1\n"
          ]
        }
      ]
    },
    {
      "cell_type": "markdown",
      "source": [
        "Working with parts of a list"
      ],
      "metadata": {
        "id": "5roeL8sgY9Ra"
      }
    },
    {
      "cell_type": "code",
      "source": [
        "# Slicing a list\n",
        "# To slice a list range of indexes is specified within the  square brackets separated by colon.\n",
        "# If the start value sin't specified, then it is assumed as 0.\n",
        "# If the end value isn't specified, then it is assumed as -2.\n",
        "# If both the values aren't specified, then a copy of the list will be created. Alternatively, copy() method can be used.\n",
        "\n",
        "#Example 1:\n",
        "#A dna sequence\n",
        "dna_sequence = ['A', 'T', 'G', 'C', 'G', 'T', 'A', 'C', 'G', 'A', 'T', 'T', 'C', 'G', 'A']\n",
        "#First five nucleotides\n",
        "dna_sequence[:6]\n",
        "print(\"\\n\")\n",
        "print(dna_sequence)\n",
        "#From sixth to the end\n",
        "dna_sequence[5:]\n",
        "print(\"\\n\")\n",
        "print(dna_sequence)\n",
        "#A specific region\n",
        "dna_sequence[2:8]\n",
        "print(\"\\n\")\n",
        "print(dna_sequence)\n",
        "#Slicing with a step size\n",
        "print(\"\\n\")\n",
        "dna_sequence[::2]\n",
        "print(dna_sequence)\n",
        "#Copy of the list\n",
        "dna_sequence[:]\n",
        "print(\"\\n\")\n",
        "print(dna_sequence)"
      ],
      "metadata": {
        "colab": {
          "base_uri": "https://localhost:8080/"
        },
        "id": "48usvi0GYhRL",
        "outputId": "51049de3-547f-4b88-a17e-2aadfa5e7e3f"
      },
      "execution_count": null,
      "outputs": [
        {
          "output_type": "stream",
          "name": "stdout",
          "text": [
            "\n",
            "\n",
            "['A', 'T', 'G', 'C', 'G', 'T', 'A', 'C', 'G', 'A', 'T', 'T', 'C', 'G', 'A']\n",
            "\n",
            "\n",
            "['A', 'T', 'G', 'C', 'G', 'T', 'A', 'C', 'G', 'A', 'T', 'T', 'C', 'G', 'A']\n",
            "\n",
            "\n",
            "['A', 'T', 'G', 'C', 'G', 'T', 'A', 'C', 'G', 'A', 'T', 'T', 'C', 'G', 'A']\n",
            "\n",
            "\n",
            "['A', 'T', 'G', 'C', 'G', 'T', 'A', 'C', 'G', 'A', 'T', 'T', 'C', 'G', 'A']\n",
            "\n",
            "\n",
            "['A', 'T', 'G', 'C', 'G', 'T', 'A', 'C', 'G', 'A', 'T', 'T', 'C', 'G', 'A']\n"
          ]
        }
      ]
    },
    {
      "cell_type": "code",
      "source": [
        "#Looping Through a slice\n",
        "#or loop and while lopp can be used to slcie through a subset of the list.\n",
        "\n",
        "#Example1:\n",
        "genes = [\"BRCA1\", \"TP53\", \"EGFR\", \"MYC\", \"KRAS\", \"APOE\"]\n",
        "subset = genes[2:5]\n",
        "for gene in subset:\n",
        "  print(f\"Performing analysis on : {gene}\")"
      ],
      "metadata": {
        "colab": {
          "base_uri": "https://localhost:8080/"
        },
        "id": "LgPtfjhXslX5",
        "outputId": "2ea232a2-0f3d-46e2-a33e-6bb2dc9edb58"
      },
      "execution_count": null,
      "outputs": [
        {
          "output_type": "stream",
          "name": "stdout",
          "text": [
            "Performing analysis on : EGFR\n",
            "Performing analysis on : MYC\n",
            "Performing analysis on : KRAS\n"
          ]
        }
      ]
    },
    {
      "cell_type": "code",
      "source": [
        "#Copying a list\n",
        "#To make a copy of the list, the start and the end value isn't specified.\n",
        "#Alternatively, copy() method can be used.\n",
        "#Any change made to the copy willn't affect the original list.\n",
        "#It is advised to work with the orignal list to save memory.\n",
        "\n",
        "#Example1:\n",
        "genes = [\"BRCA1\", \"TP53\", \"EGFR\", \"MYC\", \"KRAS\", \"APOE\"]\n",
        "copy_genes = genes[:]\n",
        "copy_genes.remove(\"TP53\")\n",
        "print(copy_genes)"
      ],
      "metadata": {
        "colab": {
          "base_uri": "https://localhost:8080/"
        },
        "id": "H9VNllK8uEfg",
        "outputId": "99657b73-5c02-4a44-cb43-41ddca30d75c"
      },
      "execution_count": null,
      "outputs": [
        {
          "output_type": "stream",
          "name": "stdout",
          "text": [
            "['BRCA1', 'EGFR', 'MYC', 'KRAS', 'APOE']\n"
          ]
        }
      ]
    },
    {
      "cell_type": "code",
      "source": [
        "print(genes)"
      ],
      "metadata": {
        "colab": {
          "base_uri": "https://localhost:8080/"
        },
        "id": "KqOpBB7Nw0nK",
        "outputId": "90056c28-ae39-43de-e36e-7882bfda57e0"
      },
      "execution_count": null,
      "outputs": [
        {
          "output_type": "stream",
          "name": "stdout",
          "text": [
            "['BRCA1', 'TP53', 'EGFR', 'MYC', 'KRAS', 'APOE']\n"
          ]
        }
      ]
    },
    {
      "cell_type": "markdown",
      "source": [
        "TUPLE"
      ],
      "metadata": {
        "id": "1JjTJHiVxHY4"
      }
    },
    {
      "cell_type": "code",
      "source": [
        "#Tuple is immutable.\n",
        "#No change, modification and deletion can be done.\n",
        "#Tuple is also a data structure which is a way of storing data.\n",
        "#Elements can be accessed using indexing.\n",
        "\n",
        "#Example1:\n",
        "genes = (\"BRCA1\", \"TP53\", \"EGFR\", \"MYC\", \"KRAS\", \"APOE\")\n",
        "copy_genes = genes[:]\n",
        "copy_genes.remove(\"TP53\")\n",
        "print(copy_genes)"
      ],
      "metadata": {
        "colab": {
          "base_uri": "https://localhost:8080/",
          "height": 193
        },
        "id": "27t-cNjbw21B",
        "outputId": "c5115112-1658-4a16-af2e-d5aa49ca0023"
      },
      "execution_count": null,
      "outputs": [
        {
          "output_type": "error",
          "ename": "AttributeError",
          "evalue": "'tuple' object has no attribute 'remove'",
          "traceback": [
            "\u001b[0;31m---------------------------------------------------------------------------\u001b[0m",
            "\u001b[0;31mAttributeError\u001b[0m                            Traceback (most recent call last)",
            "\u001b[0;32m<ipython-input-63-5dd7c6fa7256>\u001b[0m in \u001b[0;36m<cell line: 0>\u001b[0;34m()\u001b[0m\n\u001b[1;32m      7\u001b[0m \u001b[0mgenes\u001b[0m \u001b[0;34m=\u001b[0m \u001b[0;34m(\u001b[0m\u001b[0;34m\"BRCA1\"\u001b[0m\u001b[0;34m,\u001b[0m \u001b[0;34m\"TP53\"\u001b[0m\u001b[0;34m,\u001b[0m \u001b[0;34m\"EGFR\"\u001b[0m\u001b[0;34m,\u001b[0m \u001b[0;34m\"MYC\"\u001b[0m\u001b[0;34m,\u001b[0m \u001b[0;34m\"KRAS\"\u001b[0m\u001b[0;34m,\u001b[0m \u001b[0;34m\"APOE\"\u001b[0m\u001b[0;34m)\u001b[0m\u001b[0;34m\u001b[0m\u001b[0;34m\u001b[0m\u001b[0m\n\u001b[1;32m      8\u001b[0m \u001b[0mcopy_genes\u001b[0m \u001b[0;34m=\u001b[0m \u001b[0mgenes\u001b[0m\u001b[0;34m[\u001b[0m\u001b[0;34m:\u001b[0m\u001b[0;34m]\u001b[0m\u001b[0;34m\u001b[0m\u001b[0;34m\u001b[0m\u001b[0m\n\u001b[0;32m----> 9\u001b[0;31m \u001b[0mcopy_genes\u001b[0m\u001b[0;34m.\u001b[0m\u001b[0mremove\u001b[0m\u001b[0;34m(\u001b[0m\u001b[0;34m\"TP53\"\u001b[0m\u001b[0;34m)\u001b[0m\u001b[0;34m\u001b[0m\u001b[0;34m\u001b[0m\u001b[0m\n\u001b[0m\u001b[1;32m     10\u001b[0m \u001b[0mprint\u001b[0m\u001b[0;34m(\u001b[0m\u001b[0mcopy_genes\u001b[0m\u001b[0;34m)\u001b[0m\u001b[0;34m\u001b[0m\u001b[0;34m\u001b[0m\u001b[0m\n",
            "\u001b[0;31mAttributeError\u001b[0m: 'tuple' object has no attribute 'remove'"
          ]
        }
      ]
    },
    {
      "cell_type": "code",
      "source": [
        "#Looping Through all the values in a tuple\n",
        "#for and while loop can be used."
      ],
      "metadata": {
        "id": "KrB_sGoNytez"
      },
      "execution_count": null,
      "outputs": []
    },
    {
      "cell_type": "code",
      "source": [
        "#To change the dimension of a tuple, tehe tuple needs to redefined which means that a new tuple will be created.\n",
        "#Tuple can be used to store values that aren't supposed to change ever."
      ],
      "metadata": {
        "id": "NsArmIovzbR2"
      },
      "execution_count": null,
      "outputs": []
    },
    {
      "cell_type": "code",
      "source": [],
      "metadata": {
        "id": "uNo1_Vk9zw8F"
      },
      "execution_count": null,
      "outputs": []
    }
  ]
}