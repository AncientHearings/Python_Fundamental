{
  "nbformat": 4,
  "nbformat_minor": 0,
  "metadata": {
    "colab": {
      "provenance": [],
      "authorship_tag": "ABX9TyNPAP5RQgH69ndevTh3elAR",
      "include_colab_link": true
    },
    "kernelspec": {
      "name": "python3",
      "display_name": "Python 3"
    },
    "language_info": {
      "name": "python"
    }
  },
  "cells": [
    {
      "cell_type": "markdown",
      "metadata": {
        "id": "view-in-github",
        "colab_type": "text"
      },
      "source": [
        "<a href=\"https://colab.research.google.com/github/AncientHearings/Python_Fundamental/blob/main/UserInputipynb.ipynb\" target=\"_parent\"><img src=\"https://colab.research.google.com/assets/colab-badge.svg\" alt=\"Open In Colab\"/></a>"
      ]
    },
    {
      "cell_type": "markdown",
      "source": [
        "##USER INPUT"
      ],
      "metadata": {
        "id": "dYVe5gzbNJiU"
      }
    },
    {
      "cell_type": "markdown",
      "source": [
        "input() function"
      ],
      "metadata": {
        "id": "klmO0x2_PN3N"
      }
    },
    {
      "cell_type": "markdown",
      "source": [
        "- The function waits for the user to enter  a response. The string value is assigned to the variable.  \n",
        "  \n",
        "- To the input() function, only one argument is passed, the prompt.  \n",
        "  \n",
        "- The prompt ends with the colon whic separates the user's response from the prompt.In addition, tells the user where to enter the response.  \n",
        "  "
      ],
      "metadata": {
        "id": "lmcVcboRPdt7"
      }
    },
    {
      "cell_type": "code",
      "execution_count": null,
      "metadata": {
        "colab": {
          "base_uri": "https://localhost:8080/"
        },
        "id": "h36h8RKlNGb2",
        "outputId": "6f36a49c-e9e8-4f70-b32b-dfbb36b37b63"
      },
      "outputs": [
        {
          "output_type": "stream",
          "name": "stdout",
          "text": [
            "Enter the name of the orgenelle: MITOCHONDRIA\n",
            "The organelle entered is MITOCHONDRIA.\n",
            "Mitochondria are known as the powerhouses of the cell. They generate most of the cell's supply of adenosine triphosphate (ATP), used as a source of chemical energy.\n"
          ]
        }
      ],
      "source": [
        "orgenelle = input('Enter the name of the orgenelle: ')\n",
        "\n",
        "print(f\"The organelle entered is {orgenelle}.\")\n",
        "\n",
        "if orgenelle.lower() == 'mitochondria':#lower() method is used to store data.\n",
        "  print(\"Mitochondria are known as the powerhouses of the cell. They generate most of the cell's supply of adenosine triphosphate (ATP), used as a source of chemical energy.\")\n",
        "elif orgenelle.lower() == 'nucleus':\n",
        "  print(\"The nucleus is the control center of the cell. It contains the cell's DNA and is responsible for regulating gene expression.\")\n",
        "elif orgenelle.lower() == 'ribosome':\n",
        "  print(\"Ribosomes are the sites of protein synthesis. They read messenger RNA (mRNA) and translate the genetic code into a specific sequence of amino acids.\")\n",
        "elif orgenelle.lower() == 'endoplasmic reticulum':\n",
        "  print(\"The endoplasmic reticulum (ER) is involved in the synthesis of lipids and proteins. The rough ER has ribosomes on its surface, while the smooth ER does not.\")\n",
        "else:#the else statement matches any condition that wasn't matched by previous statement/statements.\n",
        "  print(f\"I don't have information about the {organelle.lower()}\")\n"
      ]
    },
    {
      "cell_type": "markdown",
      "source": [
        "Writing Clear Prompts"
      ],
      "metadata": {
        "id": "2AMCd5chSq0k"
      }
    },
    {
      "cell_type": "markdown",
      "source": [
        "- Prompt should be clear , easy-to-read and tells the user what information is exactly asked.  \n",
        "  \n",
        "- For multi-line prompt, use augmented assignment operator +=.\n",
        "The another line of prompt is assigned to the variable using +=.\n",
        "The prompt will be added to the previous prompt.\n"
      ],
      "metadata": {
        "id": "F2NfKN5ySuyR"
      }
    },
    {
      "cell_type": "code",
      "source": [
        "#In example 1, the prompt is clear and easy-to-read successful in conveying what information is to be entered."
      ],
      "metadata": {
        "id": "Lt5KVeAjSH7k"
      },
      "execution_count": null,
      "outputs": []
    },
    {
      "cell_type": "markdown",
      "source": [
        "Using int() to Accept Numerical Input"
      ],
      "metadata": {
        "id": "2fxnEidXUSJa"
      }
    },
    {
      "cell_type": "markdown",
      "source": [
        "- The value passed to the input() function is interpreted as string value by default.  \n",
        "  \n",
        "- Casting is done using constructor function int() to specify the type onto a variable. Wrap the function around int() function.  \n",
        "  "
      ],
      "metadata": {
        "id": "aNT6NOJwUXd8"
      }
    },
    {
      "cell_type": "code",
      "source": [
        "sequence_length = int(input('Enter the sequence length: '))\n",
        "\n",
        "G_counts = int(input('Enter the number of G counts: '))\n",
        "\n",
        "C_counts = int(input('Enter the number of C counts: '))\n",
        "\n",
        "GC_Content = G_counts + C_counts / sequence_length * 100\n",
        "\n",
        "print(f\" The GC content is {GC_Content}\")"
      ],
      "metadata": {
        "colab": {
          "base_uri": "https://localhost:8080/"
        },
        "id": "Xyln_GjgULa_",
        "outputId": "2e9ab937-8637-416b-9ae4-bec3152522ae"
      },
      "execution_count": null,
      "outputs": [
        {
          "output_type": "stream",
          "name": "stdout",
          "text": [
            "Enter the sequence length: 10\n",
            "Enter the number of G counts: 5\n",
            "Enter the number of C counts: 4\n",
            " The GC content is 45.0\n"
          ]
        }
      ]
    },
    {
      "cell_type": "markdown",
      "source": [
        "The Modu"
      ],
      "metadata": {
        "id": "NKTLtTCbWE48"
      }
    },
    {
      "cell_type": "markdown",
      "source": [
        "- % gives the remainder. It can be used to check if a number is even or odd."
      ],
      "metadata": {
        "id": "tlSp97jrWEtk"
      }
    },
    {
      "cell_type": "code",
      "source": [
        "chromosome_number = int(input('Enter the number of chromosomes: '))\n",
        "\n",
        "if chromosome_number % 2 == 0:\n",
        "  print(f\"The chromosome number {chromosome_number} is diploid.\")\n",
        "elif chromosome_number % 2 != 0:\n",
        "  print(f\"The chromosome number {chromosome_number} is haploid.\")"
      ],
      "metadata": {
        "id": "m2FIZEL4WAYO",
        "colab": {
          "base_uri": "https://localhost:8080/"
        },
        "outputId": "45b0a026-2538-42fd-bd39-72afca9ad765"
      },
      "execution_count": 9,
      "outputs": [
        {
          "output_type": "stream",
          "name": "stdout",
          "text": [
            "Enter the number of chromosomes: 23\n",
            "The chromosome number 23 is haploid.\n"
          ]
        }
      ]
    },
    {
      "cell_type": "code",
      "source": [],
      "metadata": {
        "id": "iDPESFuKXFQn"
      },
      "execution_count": null,
      "outputs": []
    }
  ]
}