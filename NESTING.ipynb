{
  "nbformat": 4,
  "nbformat_minor": 0,
  "metadata": {
    "colab": {
      "provenance": [],
      "authorship_tag": "ABX9TyMiX7ciZeluqP74ZG5+cMpz",
      "include_colab_link": true
    },
    "kernelspec": {
      "name": "python3",
      "display_name": "Python 3"
    },
    "language_info": {
      "name": "python"
    }
  },
  "cells": [
    {
      "cell_type": "markdown",
      "metadata": {
        "id": "view-in-github",
        "colab_type": "text"
      },
      "source": [
        "<a href=\"https://colab.research.google.com/github/AncientHearings/Python_Fundamental/blob/main/NESTING.ipynb\" target=\"_parent\"><img src=\"https://colab.research.google.com/assets/colab-badge.svg\" alt=\"Open In Colab\"/></a>"
      ]
    },
    {
      "cell_type": "markdown",
      "source": [
        "- List/Lists in a dictionary.  \n",
        "  \n",
        "- Dictionary/Dictionaries in a dictionary.  \n",
        "  \n",
        "- Dictionaries in a list.   "
      ],
      "metadata": {
        "id": "Tx6gLCWI1JKY"
      }
    },
    {
      "cell_type": "markdown",
      "source": [
        "A LIST OF DICTIONARIES"
      ],
      "metadata": {
        "id": "QBxTUxlq3M80"
      }
    },
    {
      "cell_type": "code",
      "execution_count": 1,
      "metadata": {
        "colab": {
          "base_uri": "https://localhost:8080/"
        },
        "id": "6T14LJ7xw573",
        "outputId": "a8a0a7ed-4668-4f5f-a885-e730057b113a"
      },
      "outputs": [
        {
          "output_type": "stream",
          "name": "stdout",
          "text": [
            "[{'name': 'Nucleus', 'function': 'Stores genetic material (DNA) and controls cell activities.', 'location': 'Center of the cell', 'membrane_bound': True}, {'name': 'Mitochondria', 'function': 'Produces energy (ATP) through cellular respiration.', 'location': 'Scattered throughout the cytoplasm', 'membrane_bound': True}, {'name': 'Ribosome', 'function': 'Synthesizes proteins by translating mRNA.', 'location': 'Free-floating in the cytoplasm or attached to the rough ER', 'membrane_bound': False}, {'name': 'Endoplasmic Reticulum (ER)', 'function': 'Synthesizes lipids and proteins; rough ER has ribosomes.', 'location': 'Connected to the nuclear envelope', 'membrane_bound': True}, {'name': 'Golgi Apparatus', 'function': 'Modifies, sorts, and packages proteins and lipids for transport.', 'location': 'Near the nucleus', 'membrane_bound': True}]\n"
          ]
        }
      ],
      "source": [
        "organelles = [\n",
        "    {\n",
        "        \"name\": \"Nucleus\",\n",
        "        \"function\": \"Stores genetic material (DNA) and controls cell activities.\",\n",
        "        \"location\": \"Center of the cell\",\n",
        "        \"membrane_bound\": True\n",
        "    },\n",
        "    {\n",
        "        \"name\": \"Mitochondria\",\n",
        "        \"function\": \"Produces energy (ATP) through cellular respiration.\",\n",
        "        \"location\": \"Scattered throughout the cytoplasm\",\n",
        "        \"membrane_bound\": True\n",
        "    },\n",
        "    {\n",
        "        \"name\": \"Ribosome\",\n",
        "        \"function\": \"Synthesizes proteins by translating mRNA.\",\n",
        "        \"location\": \"Free-floating in the cytoplasm or attached to the rough ER\",\n",
        "        \"membrane_bound\": False\n",
        "    },\n",
        "    {\n",
        "        \"name\": \"Endoplasmic Reticulum (ER)\",\n",
        "        \"function\": \"Synthesizes lipids and proteins; rough ER has ribosomes.\",\n",
        "        \"location\": \"Connected to the nuclear envelope\",\n",
        "        \"membrane_bound\": True\n",
        "    },\n",
        "    {\n",
        "        \"name\": \"Golgi Apparatus\",\n",
        "        \"function\": \"Modifies, sorts, and packages proteins and lipids for transport.\",\n",
        "        \"location\": \"Near the nucleus\",\n",
        "        \"membrane_bound\": True\n",
        "    }\n",
        "]\n",
        "\n",
        "\n",
        "print(organelles)"
      ]
    },
    {
      "cell_type": "code",
      "source": [
        "print(f\"{organelles[0]['name']}\")\n",
        "print(f\"{organelles[0]['location']}\")\n",
        "print(f\"{organelles[0]['membrane_bound']}\")\n",
        "print(f\"{organelles[0]['function']}\")"
      ],
      "metadata": {
        "colab": {
          "base_uri": "https://localhost:8080/"
        },
        "id": "HrbGoHee5iZD",
        "outputId": "1ce3636c-08e0-4203-9062-d2682c5aae0c"
      },
      "execution_count": 4,
      "outputs": [
        {
          "output_type": "stream",
          "name": "stdout",
          "text": [
            "Nucleus\n",
            "Center of the cell\n",
            "True\n",
            "Stores genetic material (DNA) and controls cell activities.\n"
          ]
        }
      ]
    },
    {
      "cell_type": "markdown",
      "source": [
        "A LIST IN A DICTIONARY"
      ],
      "metadata": {
        "id": "KSW7p2PG6QcE"
      }
    },
    {
      "cell_type": "code",
      "source": [
        "cell_components = {\n",
        "    \"organelles\": [\"Nucleus\", \"Mitochondria\", \"Endoplasmic Reticulum\", \"Golgi Apparatus\", \"Ribosomes\"],\n",
        "    \"functions\": [\n",
        "        \"Stores DNA and controls cell activities\",\n",
        "        \"Produces energy (ATP) through cellular respiration\",\n",
        "        \"Synthesizes lipids and proteins\",\n",
        "        \"Modifies, sorts, and packages proteins and lipids\",\n",
        "        \"Synthesizes proteins by translating mRNA\"\n",
        "    ],\n",
        "    \"locations\": [\n",
        "        \"Center of the cell\",\n",
        "        \"Scattered throughout the cytoplasm\",\n",
        "        \"Connected to the nuclear envelope\",\n",
        "        \"Near the nucleus\",\n",
        "        \"Free-floating or attached to the rough ER\"\n",
        "    ],\n",
        "    \"membrane_bound\": [True, True, True, True, False]\n",
        "}\n",
        "\n",
        "\n",
        "print(\"cell components and their features\")\n",
        "cell_components = {\n",
        "    \"organelles\": [\"Nucleus\", \"Mitochondria\", \"Endoplasmic Reticulum\", \"Golgi Apparatus\", \"Ribosomes\"],\n",
        "    \"functions\": [\n",
        "        \"Stores DNA and controls cell activities\",\n",
        "        \"Produces energy (ATP) through cellular respiration\",\n",
        "        \"Synthesizes lipids and proteins\",\n",
        "        \"Modifies, sorts, and packages proteins and lipids\",\n",
        "        \"Synthesizes proteins by translating mRNA\"\n",
        "    ],\n",
        "    \"locations\": [\n",
        "        \"Center of the cell\",\n",
        "        \"Scattered throughout the cytoplasm\",\n",
        "        \"Connected to the nuclear envelope\",\n",
        "        \"Near the nucleus\",\n",
        "        \"Free-floating or attached to the rough ER\"\n",
        "    ],\n",
        "    \"membrane_bound\": [True, True, True, True, False]\n",
        "}\n",
        "\n",
        "\n",
        "print(\"cell components and their features\")\n",
        "print('-' * 50)\n",
        "for i in range(len(cell_components[\"organelles\"])):\n",
        "   print(f\"Organelle: {cell_components['organelles'][i]}\")\n",
        "   print(f\"Function: {cell_components['functions'][i]}\")\n",
        "   print(f\"Location: {cell_components['locations'][i]}\")\n",
        "   print(f\"Membrane_bound: {cell_components['membrane_bound'][i]}\")\n",
        "   print('-' * 50)\n",
        "print(f\"\\nWork Done\")"
      ],
      "metadata": {
        "colab": {
          "base_uri": "https://localhost:8080/"
        },
        "id": "JOyPoLMd5yas",
        "outputId": "fedde509-2706-40e4-92a2-ef8ef57b2644"
      },
      "execution_count": 16,
      "outputs": [
        {
          "output_type": "stream",
          "name": "stdout",
          "text": [
            "cell components and their features\n",
            "cell components and their features\n",
            "--------------------------------------------------\n",
            "Organelle: Nucleus\n",
            "Function: Stores DNA and controls cell activities\n",
            "Location: Center of the cell\n",
            "Membrane_bound: True\n",
            "--------------------------------------------------\n",
            "Organelle: Mitochondria\n",
            "Function: Produces energy (ATP) through cellular respiration\n",
            "Location: Scattered throughout the cytoplasm\n",
            "Membrane_bound: True\n",
            "--------------------------------------------------\n",
            "Organelle: Endoplasmic Reticulum\n",
            "Function: Synthesizes lipids and proteins\n",
            "Location: Connected to the nuclear envelope\n",
            "Membrane_bound: True\n",
            "--------------------------------------------------\n",
            "Organelle: Golgi Apparatus\n",
            "Function: Modifies, sorts, and packages proteins and lipids\n",
            "Location: Near the nucleus\n",
            "Membrane_bound: True\n",
            "--------------------------------------------------\n",
            "Organelle: Ribosomes\n",
            "Function: Synthesizes proteins by translating mRNA\n",
            "Location: Free-floating or attached to the rough ER\n",
            "Membrane_bound: False\n",
            "--------------------------------------------------\n",
            "\n",
            "Work Done\n"
          ]
        }
      ]
    },
    {
      "cell_type": "code",
      "source": [
        "_compo"
      ],
      "metadata": {
        "id": "9FqRdCMk7Ra8"
      },
      "execution_count": null,
      "outputs": []
    }
  ]
}